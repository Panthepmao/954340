{
 "cells": [
  {
   "cell_type": "code",
   "execution_count": 1,
   "id": "9fe05887",
   "metadata": {
    "_cell_guid": "b1076dfc-b9ad-4769-8c92-a6c4dae69d19",
    "_uuid": "8f2839f25d086af736a60e9eeb907d3b93b6e0e5",
    "execution": {
     "iopub.execute_input": "2025-02-17T14:58:41.508353Z",
     "iopub.status.busy": "2025-02-17T14:58:41.507871Z",
     "iopub.status.idle": "2025-02-17T14:58:42.460092Z",
     "shell.execute_reply": "2025-02-17T14:58:42.458889Z"
    },
    "papermill": {
     "duration": 0.962395,
     "end_time": "2025-02-17T14:58:42.462098",
     "exception": false,
     "start_time": "2025-02-17T14:58:41.499703",
     "status": "completed"
    },
    "tags": []
   },
   "outputs": [],
   "source": [
    "# This Python 3 environment comes with many helpful analytics libraries installed\n",
    "# It is defined by the kaggle/python Docker image: https://github.com/kaggle/docker-python\n",
    "# For example, here's several helpful packages to load\n",
    "\n",
    "import numpy as np # linear algebra\n",
    "import pandas as pd # data processing, CSV file I/O (e.g. pd.read_csv)\n",
    "\n",
    "# Input data files are available in the read-only \"../input/\" directory\n",
    "# For example, running this (by clicking run or pressing Shift+Enter) will list all files under the input directory\n",
    "\n",
    "import os\n",
    "for dirname, _, filenames in os.walk('/kaggle/input'):\n",
    "    for filename in filenames:\n",
    "        print(os.path.join(dirname, filename))\n",
    "\n",
    "# You can write up to 20GB to the current directory (/kaggle/working/) that gets preserved as output when you create a version using \"Save & Run All\" \n",
    "# You can also write temporary files to /kaggle/temp/, but they won't be saved outside of the current session"
   ]
  },
  {
   "cell_type": "code",
   "execution_count": 2,
   "id": "e2614968",
   "metadata": {
    "execution": {
     "iopub.execute_input": "2025-02-17T14:58:42.476772Z",
     "iopub.status.busy": "2025-02-17T14:58:42.476261Z",
     "iopub.status.idle": "2025-02-17T14:58:42.481155Z",
     "shell.execute_reply": "2025-02-17T14:58:42.479986Z"
    },
    "papermill": {
     "duration": 0.014322,
     "end_time": "2025-02-17T14:58:42.482932",
     "exception": false,
     "start_time": "2025-02-17T14:58:42.468610",
     "status": "completed"
    },
    "tags": []
   },
   "outputs": [],
   "source": [
    "def warn (*args, **kwargs):\n",
    "    pass\n",
    "import warnings\n",
    "warnings.warn = warn"
   ]
  },
  {
   "cell_type": "code",
   "execution_count": 3,
   "id": "e832c541",
   "metadata": {
    "execution": {
     "iopub.execute_input": "2025-02-17T14:58:42.496857Z",
     "iopub.status.busy": "2025-02-17T14:58:42.496462Z",
     "iopub.status.idle": "2025-02-17T14:58:43.911355Z",
     "shell.execute_reply": "2025-02-17T14:58:43.910043Z"
    },
    "papermill": {
     "duration": 1.424057,
     "end_time": "2025-02-17T14:58:43.913353",
     "exception": false,
     "start_time": "2025-02-17T14:58:42.489296",
     "status": "completed"
    },
    "tags": []
   },
   "outputs": [
    {
     "name": "stdout",
     "output_type": "stream",
     "text": [
      "         condition  autopsyYear gender         autopsyDate   causeofDeath  \\\n",
      "0  ศพมีสภาพสมบูรณ์       2568.0    ชาย  01 กุมภาพันธ์ 2568  ไม่ทราบสาเหตุ   \n",
      "1  ศพมีสภาพสมบูรณ์       2568.0    ชาย  01 กุมภาพันธ์ 2568  ไม่ทราบสาเหตุ   \n",
      "2  ศพมีสภาพสมบูรณ์       2568.0    ชาย      24 มกราคม 2568  ไม่ทราบสาเหตุ   \n",
      "3  ศพมีสภาพสมบูรณ์       2568.0    ชาย      24 มกราคม 2568  ไม่ทราบสาเหตุ   \n",
      "4  ศพมีสภาพสมบูรณ์       2568.0    ชาย      13 มกราคม 2568  ไม่ทราบสาเหตุ   \n",
      "\n",
      "  foreign  \n",
      "0    None  \n",
      "1    None  \n",
      "2    None  \n",
      "3    None  \n",
      "4    None  \n"
     ]
    }
   ],
   "source": [
    "import pandas as pd\n",
    "import requests\n",
    "\n",
    "try:\n",
    "   \n",
    "    response = requests.get('https://api.thaimissing.go.th/api/v1/cir-Datacatalog/DataNorelativePerson')\n",
    "    response.raise_for_status() \n",
    "\n",
    "\n",
    "    data = response.json()\n",
    "    df = pd.DataFrame(data)  \n",
    "\n",
    "    # แสดงข้อมูล 5 แถวแรก\n",
    "    print(df.head())\n",
    "\n",
    "except requests.exceptions.RequestException as e:\n",
    "    print(f\"เกิดข้อผิดพลาด: {e}\")\n"
   ]
  },
  {
   "cell_type": "code",
   "execution_count": 4,
   "id": "35459118",
   "metadata": {
    "execution": {
     "iopub.execute_input": "2025-02-17T14:58:43.927689Z",
     "iopub.status.busy": "2025-02-17T14:58:43.927315Z",
     "iopub.status.idle": "2025-02-17T14:58:43.957253Z",
     "shell.execute_reply": "2025-02-17T14:58:43.955936Z"
    },
    "papermill": {
     "duration": 0.039532,
     "end_time": "2025-02-17T14:58:43.959156",
     "exception": false,
     "start_time": "2025-02-17T14:58:43.919624",
     "status": "completed"
    },
    "tags": []
   },
   "outputs": [
    {
     "name": "stdout",
     "output_type": "stream",
     "text": [
      "<class 'pandas.core.frame.DataFrame'>\n",
      "RangeIndex: 583 entries, 0 to 582\n",
      "Data columns (total 6 columns):\n",
      " #   Column        Non-Null Count  Dtype  \n",
      "---  ------        --------------  -----  \n",
      " 0   condition     583 non-null    object \n",
      " 1   autopsyYear   582 non-null    float64\n",
      " 2   gender        583 non-null    object \n",
      " 3   autopsyDate   583 non-null    object \n",
      " 4   causeofDeath  582 non-null    object \n",
      " 5   foreign       43 non-null     object \n",
      "dtypes: float64(1), object(5)\n",
      "memory usage: 27.5+ KB\n"
     ]
    }
   ],
   "source": [
    "df.info()"
   ]
  },
  {
   "cell_type": "code",
   "execution_count": 5,
   "id": "c1eafcfe",
   "metadata": {
    "execution": {
     "iopub.execute_input": "2025-02-17T14:58:43.973346Z",
     "iopub.status.busy": "2025-02-17T14:58:43.973013Z",
     "iopub.status.idle": "2025-02-17T14:58:43.981548Z",
     "shell.execute_reply": "2025-02-17T14:58:43.980480Z"
    },
    "papermill": {
     "duration": 0.017598,
     "end_time": "2025-02-17T14:58:43.983221",
     "exception": false,
     "start_time": "2025-02-17T14:58:43.965623",
     "status": "completed"
    },
    "tags": []
   },
   "outputs": [
    {
     "data": {
      "text/plain": [
       "condition         0\n",
       "autopsyYear       1\n",
       "gender            0\n",
       "autopsyDate       0\n",
       "causeofDeath      1\n",
       "foreign         540\n",
       "dtype: int64"
      ]
     },
     "execution_count": 5,
     "metadata": {},
     "output_type": "execute_result"
    }
   ],
   "source": [
    "df.isnull().sum()"
   ]
  },
  {
   "cell_type": "code",
   "execution_count": 6,
   "id": "f37de722",
   "metadata": {
    "execution": {
     "iopub.execute_input": "2025-02-17T14:58:43.997334Z",
     "iopub.status.busy": "2025-02-17T14:58:43.996940Z",
     "iopub.status.idle": "2025-02-17T14:58:44.004971Z",
     "shell.execute_reply": "2025-02-17T14:58:44.003862Z"
    },
    "papermill": {
     "duration": 0.017031,
     "end_time": "2025-02-17T14:58:44.006698",
     "exception": false,
     "start_time": "2025-02-17T14:58:43.989667",
     "status": "completed"
    },
    "tags": []
   },
   "outputs": [
    {
     "data": {
      "text/plain": [
       "condition       0.000000\n",
       "autopsyYear     0.001715\n",
       "gender          0.000000\n",
       "autopsyDate     0.000000\n",
       "causeofDeath    0.001715\n",
       "foreign         0.926244\n",
       "dtype: float64"
      ]
     },
     "execution_count": 6,
     "metadata": {},
     "output_type": "execute_result"
    }
   ],
   "source": [
    "df.isnull().mean()"
   ]
  },
  {
   "cell_type": "code",
   "execution_count": 7,
   "id": "d7b53cf9",
   "metadata": {
    "execution": {
     "iopub.execute_input": "2025-02-17T14:58:44.021207Z",
     "iopub.status.busy": "2025-02-17T14:58:44.020774Z",
     "iopub.status.idle": "2025-02-17T14:58:44.027537Z",
     "shell.execute_reply": "2025-02-17T14:58:44.026468Z"
    },
    "papermill": {
     "duration": 0.01602,
     "end_time": "2025-02-17T14:58:44.029240",
     "exception": false,
     "start_time": "2025-02-17T14:58:44.013220",
     "status": "completed"
    },
    "tags": []
   },
   "outputs": [
    {
     "data": {
      "text/plain": [
       "array(['ไม่ทราบสาเหตุ', None, 'อื่นๆ', 'อุบัติเหตุ', 'ปอดอักเสบติดเชื้อ',\n",
       "       'อุบัติเหตุรักษาตัว', 'วัณโรคปอด', 'สันนิษฐานขาดอากาศจากการจมน้ำ',\n",
       "       'โรคมะเร็ง', 'ลอยน้ำ', 'แขวนคอ', 'อุบัติเหตุจราจร', 'จมน้ำ',\n",
       "       'ถูกทำร้ายร่างกาย', 'ระบบหัวใจล้มเหลว', 'ติดเชื้อในกระแสเลือด',\n",
       "       'ผูกคอ', 'ถูกทำร้ายด้วยอาวุธมีด', 'ไม่ทราบสาเหตุ ',\n",
       "       'ไม่ทราบสาเหตุ (ถูกทำร้ายร่างกาย)', 'ไฟฟ้าช็อต', 'ตกที่สูง'],\n",
       "      dtype=object)"
      ]
     },
     "execution_count": 7,
     "metadata": {},
     "output_type": "execute_result"
    }
   ],
   "source": [
    "df['causeofDeath'].unique()"
   ]
  },
  {
   "cell_type": "code",
   "execution_count": 8,
   "id": "4cabd1b4",
   "metadata": {
    "execution": {
     "iopub.execute_input": "2025-02-17T14:58:44.043642Z",
     "iopub.status.busy": "2025-02-17T14:58:44.043268Z",
     "iopub.status.idle": "2025-02-17T14:58:44.048898Z",
     "shell.execute_reply": "2025-02-17T14:58:44.047830Z"
    },
    "papermill": {
     "duration": 0.014689,
     "end_time": "2025-02-17T14:58:44.050508",
     "exception": false,
     "start_time": "2025-02-17T14:58:44.035819",
     "status": "completed"
    },
    "tags": []
   },
   "outputs": [
    {
     "data": {
      "text/plain": [
       "(583, 6)"
      ]
     },
     "execution_count": 8,
     "metadata": {},
     "output_type": "execute_result"
    }
   ],
   "source": [
    "df.shape"
   ]
  },
  {
   "cell_type": "code",
   "execution_count": 9,
   "id": "7fb603cd",
   "metadata": {
    "execution": {
     "iopub.execute_input": "2025-02-17T14:58:44.065195Z",
     "iopub.status.busy": "2025-02-17T14:58:44.064834Z",
     "iopub.status.idle": "2025-02-17T14:58:44.077890Z",
     "shell.execute_reply": "2025-02-17T14:58:44.076713Z"
    },
    "papermill": {
     "duration": 0.022358,
     "end_time": "2025-02-17T14:58:44.079847",
     "exception": false,
     "start_time": "2025-02-17T14:58:44.057489",
     "status": "completed"
    },
    "tags": []
   },
   "outputs": [],
   "source": [
    "column_mapping = {\n",
    "    'ไม่ทราบสาเหตุ': 'Unknown_Cause',\n",
    "    'อื่นๆ': 'Other',\n",
    "    'อุบัติเหตุ': 'Accident',\n",
    "    'ปอดอักเสบติดเชื้อ': 'Pneumonia_Infection',\n",
    "    'อุบัติเหตุรักษาตัว': 'Accident_Under_Treatment',\n",
    "    'วัณโรคปอด': 'Pulmonary_Tuberculosis',\n",
    "    'สันนิษฐานขาดอากาศจากการจมน้ำ': 'Presumed_Drowning',\n",
    "    'โรคมะเร็ง': 'Cancer',\n",
    "    'ลอยน้ำ': 'Floating_in_Water',\n",
    "    'แขวนคอ': 'Hanging',\n",
    "    'อุบัติเหตุจราจร': 'Traffic_Accident',\n",
    "    'จมน้ำ': 'Drowning',\n",
    "    'ถูกทำร้ายร่างกาย': 'Physical_Assault',\n",
    "    'ระบบหัวใจล้มเหลว': 'Heart_Failure',\n",
    "    'ติดเชื้อในกระแสเลือด': 'Sepsis',\n",
    "    'ผูกคอ': 'Hanging',\n",
    "    'ถูกทำร้ายด้วยอาวุธมีด': 'Assault_Stab_Wound',\n",
    "    'ไม่ทราบสาเหตุ ': 'Unknown_Cause',\n",
    "    'ไม่ทราบสาเหตุ (ถูกทำร้ายร่างกาย)': 'Unknown_Cause_(Assault)',\n",
    "    'ไฟฟ้าช็อต': 'Electrocution',\n",
    "    'ตกที่สูง': 'Fall_from_Height'\n",
    "}\n",
    "\n",
    "df_cleaned = df.replace(column_mapping)"
   ]
  },
  {
   "cell_type": "code",
   "execution_count": 10,
   "id": "3f11ce37",
   "metadata": {
    "execution": {
     "iopub.execute_input": "2025-02-17T14:58:44.094916Z",
     "iopub.status.busy": "2025-02-17T14:58:44.094501Z",
     "iopub.status.idle": "2025-02-17T14:58:44.101660Z",
     "shell.execute_reply": "2025-02-17T14:58:44.100809Z"
    },
    "papermill": {
     "duration": 0.016196,
     "end_time": "2025-02-17T14:58:44.103225",
     "exception": false,
     "start_time": "2025-02-17T14:58:44.087029",
     "status": "completed"
    },
    "tags": []
   },
   "outputs": [
    {
     "data": {
      "text/plain": [
       "condition         0\n",
       "autopsyYear       1\n",
       "gender            0\n",
       "autopsyDate       0\n",
       "causeofDeath      1\n",
       "foreign         540\n",
       "dtype: int64"
      ]
     },
     "execution_count": 10,
     "metadata": {},
     "output_type": "execute_result"
    }
   ],
   "source": [
    "df_cleaned.isnull().sum()"
   ]
  },
  {
   "cell_type": "code",
   "execution_count": 11,
   "id": "a2a6148a",
   "metadata": {
    "execution": {
     "iopub.execute_input": "2025-02-17T14:58:44.118722Z",
     "iopub.status.busy": "2025-02-17T14:58:44.118381Z",
     "iopub.status.idle": "2025-02-17T14:58:44.126469Z",
     "shell.execute_reply": "2025-02-17T14:58:44.125356Z"
    },
    "papermill": {
     "duration": 0.018022,
     "end_time": "2025-02-17T14:58:44.128195",
     "exception": false,
     "start_time": "2025-02-17T14:58:44.110173",
     "status": "completed"
    },
    "tags": []
   },
   "outputs": [],
   "source": [
    "df_cleaned = df_cleaned.drop(columns=['foreign'], axis=1)\n"
   ]
  },
  {
   "cell_type": "code",
   "execution_count": 12,
   "id": "573090fb",
   "metadata": {
    "execution": {
     "iopub.execute_input": "2025-02-17T14:58:44.142945Z",
     "iopub.status.busy": "2025-02-17T14:58:44.142571Z",
     "iopub.status.idle": "2025-02-17T14:58:44.149098Z",
     "shell.execute_reply": "2025-02-17T14:58:44.148092Z"
    },
    "papermill": {
     "duration": 0.015616,
     "end_time": "2025-02-17T14:58:44.150677",
     "exception": false,
     "start_time": "2025-02-17T14:58:44.135061",
     "status": "completed"
    },
    "tags": []
   },
   "outputs": [],
   "source": [
    "df_cleaned = df_cleaned.dropna()"
   ]
  },
  {
   "cell_type": "code",
   "execution_count": 13,
   "id": "ef907824",
   "metadata": {
    "execution": {
     "iopub.execute_input": "2025-02-17T14:58:44.166049Z",
     "iopub.status.busy": "2025-02-17T14:58:44.165617Z",
     "iopub.status.idle": "2025-02-17T14:58:44.171303Z",
     "shell.execute_reply": "2025-02-17T14:58:44.170277Z"
    },
    "papermill": {
     "duration": 0.015051,
     "end_time": "2025-02-17T14:58:44.173064",
     "exception": false,
     "start_time": "2025-02-17T14:58:44.158013",
     "status": "completed"
    },
    "tags": []
   },
   "outputs": [],
   "source": [
    "df_final = df_cleaned[df_cleaned['condition'] != '-']\n"
   ]
  },
  {
   "cell_type": "code",
   "execution_count": 14,
   "id": "6c8d0146",
   "metadata": {
    "execution": {
     "iopub.execute_input": "2025-02-17T14:58:44.187889Z",
     "iopub.status.busy": "2025-02-17T14:58:44.187523Z",
     "iopub.status.idle": "2025-02-17T14:58:44.207002Z",
     "shell.execute_reply": "2025-02-17T14:58:44.205975Z"
    },
    "papermill": {
     "duration": 0.028917,
     "end_time": "2025-02-17T14:58:44.208793",
     "exception": false,
     "start_time": "2025-02-17T14:58:44.179876",
     "status": "completed"
    },
    "tags": []
   },
   "outputs": [
    {
     "data": {
      "text/html": [
       "<div>\n",
       "<style scoped>\n",
       "    .dataframe tbody tr th:only-of-type {\n",
       "        vertical-align: middle;\n",
       "    }\n",
       "\n",
       "    .dataframe tbody tr th {\n",
       "        vertical-align: top;\n",
       "    }\n",
       "\n",
       "    .dataframe thead th {\n",
       "        text-align: right;\n",
       "    }\n",
       "</style>\n",
       "<table border=\"1\" class=\"dataframe\">\n",
       "  <thead>\n",
       "    <tr style=\"text-align: right;\">\n",
       "      <th></th>\n",
       "      <th>condition</th>\n",
       "      <th>autopsyYear</th>\n",
       "      <th>gender</th>\n",
       "      <th>autopsyDate</th>\n",
       "      <th>causeofDeath</th>\n",
       "    </tr>\n",
       "  </thead>\n",
       "  <tbody>\n",
       "    <tr>\n",
       "      <th>0</th>\n",
       "      <td>ศพมีสภาพสมบูรณ์</td>\n",
       "      <td>2568.0</td>\n",
       "      <td>ชาย</td>\n",
       "      <td>01 กุมภาพันธ์ 2568</td>\n",
       "      <td>Unknown_Cause</td>\n",
       "    </tr>\n",
       "    <tr>\n",
       "      <th>1</th>\n",
       "      <td>ศพมีสภาพสมบูรณ์</td>\n",
       "      <td>2568.0</td>\n",
       "      <td>ชาย</td>\n",
       "      <td>01 กุมภาพันธ์ 2568</td>\n",
       "      <td>Unknown_Cause</td>\n",
       "    </tr>\n",
       "    <tr>\n",
       "      <th>2</th>\n",
       "      <td>ศพมีสภาพสมบูรณ์</td>\n",
       "      <td>2568.0</td>\n",
       "      <td>ชาย</td>\n",
       "      <td>24 มกราคม 2568</td>\n",
       "      <td>Unknown_Cause</td>\n",
       "    </tr>\n",
       "    <tr>\n",
       "      <th>3</th>\n",
       "      <td>ศพมีสภาพสมบูรณ์</td>\n",
       "      <td>2568.0</td>\n",
       "      <td>ชาย</td>\n",
       "      <td>24 มกราคม 2568</td>\n",
       "      <td>Unknown_Cause</td>\n",
       "    </tr>\n",
       "    <tr>\n",
       "      <th>4</th>\n",
       "      <td>ศพมีสภาพสมบูรณ์</td>\n",
       "      <td>2568.0</td>\n",
       "      <td>ชาย</td>\n",
       "      <td>13 มกราคม 2568</td>\n",
       "      <td>Unknown_Cause</td>\n",
       "    </tr>\n",
       "    <tr>\n",
       "      <th>...</th>\n",
       "      <td>...</td>\n",
       "      <td>...</td>\n",
       "      <td>...</td>\n",
       "      <td>...</td>\n",
       "      <td>...</td>\n",
       "    </tr>\n",
       "    <tr>\n",
       "      <th>577</th>\n",
       "      <td>ศพมีสภาพสมบูรณ์</td>\n",
       "      <td>2562.0</td>\n",
       "      <td>ชาย</td>\n",
       "      <td>12 มกราคม 2562</td>\n",
       "      <td>Unknown_Cause</td>\n",
       "    </tr>\n",
       "    <tr>\n",
       "      <th>578</th>\n",
       "      <td>ศพมีสภาพสมบูรณ์</td>\n",
       "      <td>2562.0</td>\n",
       "      <td>ชาย</td>\n",
       "      <td>07 มกราคม 2562</td>\n",
       "      <td>Unknown_Cause</td>\n",
       "    </tr>\n",
       "    <tr>\n",
       "      <th>579</th>\n",
       "      <td>ศพมีสภาพสมบูรณ์</td>\n",
       "      <td>2562.0</td>\n",
       "      <td>ชาย</td>\n",
       "      <td>07 มกราคม 2562</td>\n",
       "      <td>Unknown_Cause</td>\n",
       "    </tr>\n",
       "    <tr>\n",
       "      <th>580</th>\n",
       "      <td>ศพมีสภาพสมบูรณ์</td>\n",
       "      <td>2562.0</td>\n",
       "      <td>ชาย</td>\n",
       "      <td>05 มกราคม 2562</td>\n",
       "      <td>Unknown_Cause</td>\n",
       "    </tr>\n",
       "    <tr>\n",
       "      <th>581</th>\n",
       "      <td>ศพมีสภาพสมบูรณ์</td>\n",
       "      <td>2562.0</td>\n",
       "      <td>ชาย</td>\n",
       "      <td>03 มกราคม 2562</td>\n",
       "      <td>Unknown_Cause</td>\n",
       "    </tr>\n",
       "  </tbody>\n",
       "</table>\n",
       "<p>575 rows × 5 columns</p>\n",
       "</div>"
      ],
      "text/plain": [
       "           condition  autopsyYear gender         autopsyDate   causeofDeath\n",
       "0    ศพมีสภาพสมบูรณ์       2568.0    ชาย  01 กุมภาพันธ์ 2568  Unknown_Cause\n",
       "1    ศพมีสภาพสมบูรณ์       2568.0    ชาย  01 กุมภาพันธ์ 2568  Unknown_Cause\n",
       "2    ศพมีสภาพสมบูรณ์       2568.0    ชาย      24 มกราคม 2568  Unknown_Cause\n",
       "3    ศพมีสภาพสมบูรณ์       2568.0    ชาย      24 มกราคม 2568  Unknown_Cause\n",
       "4    ศพมีสภาพสมบูรณ์       2568.0    ชาย      13 มกราคม 2568  Unknown_Cause\n",
       "..               ...          ...    ...                 ...            ...\n",
       "577  ศพมีสภาพสมบูรณ์       2562.0    ชาย      12 มกราคม 2562  Unknown_Cause\n",
       "578  ศพมีสภาพสมบูรณ์       2562.0    ชาย      07 มกราคม 2562  Unknown_Cause\n",
       "579  ศพมีสภาพสมบูรณ์       2562.0    ชาย      07 มกราคม 2562  Unknown_Cause\n",
       "580  ศพมีสภาพสมบูรณ์       2562.0    ชาย      05 มกราคม 2562  Unknown_Cause\n",
       "581  ศพมีสภาพสมบูรณ์       2562.0    ชาย      03 มกราคม 2562  Unknown_Cause\n",
       "\n",
       "[575 rows x 5 columns]"
      ]
     },
     "execution_count": 14,
     "metadata": {},
     "output_type": "execute_result"
    }
   ],
   "source": [
    "df_final"
   ]
  },
  {
   "cell_type": "code",
   "execution_count": 15,
   "id": "943da0ed",
   "metadata": {
    "execution": {
     "iopub.execute_input": "2025-02-17T14:58:44.225465Z",
     "iopub.status.busy": "2025-02-17T14:58:44.225135Z",
     "iopub.status.idle": "2025-02-17T14:58:44.234986Z",
     "shell.execute_reply": "2025-02-17T14:58:44.233838Z"
    },
    "papermill": {
     "duration": 0.01965,
     "end_time": "2025-02-17T14:58:44.236659",
     "exception": false,
     "start_time": "2025-02-17T14:58:44.217009",
     "status": "completed"
    },
    "tags": []
   },
   "outputs": [
    {
     "name": "stdout",
     "output_type": "stream",
     "text": [
      "Column 'condition' has 3 unique values: ['ศพมีสภาพสมบูรณ์' 'ศพมีสภาพเน่า' 'ศพมีสภาพเป็นกระดูก'] ...\n",
      "Column 'autopsyYear' has 7 unique values: [2568. 2567. 2566. 2565. 2564. 2563. 2562.] ...\n",
      "Column 'gender' has 2 unique values: ['ชาย' 'หญิง'] ...\n",
      "Column 'autopsyDate' has 483 unique values: ['01 กุมภาพันธ์ 2568' '24 มกราคม 2568' '13 มกราคม 2568' '27 ธันวาคม 2567'\n",
      " '26 ธันวาคม 2567' '22 ธันวาคม 2567' '25 พฤศจิกายน 2567'\n",
      " '24 พฤศจิกายน 2567' '22 พฤศจิกายน 2567' '15 พฤศจิกายน 2567'] ...\n",
      "Column 'causeofDeath' has 19 unique values: ['Unknown_Cause' 'Other' 'Accident' 'Accident_Under_Treatment'\n",
      " 'Pulmonary_Tuberculosis' 'Presumed_Drowning' 'Cancer' 'Floating_in_Water'\n",
      " 'Hanging' 'Traffic_Accident'] ...\n"
     ]
    }
   ],
   "source": [
    "for col in df_final.columns:\n",
    "    unique_values = df_final[col].unique()\n",
    "    print(f\"Column '{col}' has {len(unique_values)} unique values: {unique_values[:10]} ...\")  # แสดงแค่ 10 ค่าแรก\n"
   ]
  },
  {
   "cell_type": "code",
   "execution_count": 16,
   "id": "faef518f",
   "metadata": {
    "execution": {
     "iopub.execute_input": "2025-02-17T14:58:44.252254Z",
     "iopub.status.busy": "2025-02-17T14:58:44.251903Z",
     "iopub.status.idle": "2025-02-17T14:58:44.257905Z",
     "shell.execute_reply": "2025-02-17T14:58:44.256855Z"
    },
    "papermill": {
     "duration": 0.015696,
     "end_time": "2025-02-17T14:58:44.259611",
     "exception": false,
     "start_time": "2025-02-17T14:58:44.243915",
     "status": "completed"
    },
    "tags": []
   },
   "outputs": [],
   "source": [
    "df_final['condition'] = df_final['condition'].replace({\n",
    "    'ศพมีสภาพสมบูรณ์': 'The body is intact',\n",
    "    'ศพมีสภาพเน่า': 'The body is decomposed',\n",
    "    'ศพมีสภาพเป็นกระดูก': 'The body is skeletal',\n",
    "  \n",
    "})\n",
    "\n"
   ]
  },
  {
   "cell_type": "code",
   "execution_count": 17,
   "id": "d54d0f03",
   "metadata": {
    "execution": {
     "iopub.execute_input": "2025-02-17T14:58:44.275230Z",
     "iopub.status.busy": "2025-02-17T14:58:44.274859Z",
     "iopub.status.idle": "2025-02-17T14:58:44.280998Z",
     "shell.execute_reply": "2025-02-17T14:58:44.279700Z"
    },
    "papermill": {
     "duration": 0.015882,
     "end_time": "2025-02-17T14:58:44.282702",
     "exception": false,
     "start_time": "2025-02-17T14:58:44.266820",
     "status": "completed"
    },
    "tags": []
   },
   "outputs": [],
   "source": [
    "df_final['gender'] =  df_final['gender'].replace('ชาย','male')\n",
    "df_final['gender'] =  df_final['gender'].replace('หญิง','female')"
   ]
  },
  {
   "cell_type": "code",
   "execution_count": 18,
   "id": "3c0cdfa5",
   "metadata": {
    "execution": {
     "iopub.execute_input": "2025-02-17T14:58:44.300711Z",
     "iopub.status.busy": "2025-02-17T14:58:44.300378Z",
     "iopub.status.idle": "2025-02-17T14:58:44.306861Z",
     "shell.execute_reply": "2025-02-17T14:58:44.305836Z"
    },
    "papermill": {
     "duration": 0.017825,
     "end_time": "2025-02-17T14:58:44.308553",
     "exception": false,
     "start_time": "2025-02-17T14:58:44.290728",
     "status": "completed"
    },
    "tags": []
   },
   "outputs": [
    {
     "data": {
      "text/plain": [
       "array(['Unknown_Cause', 'Other', 'Accident', 'Accident_Under_Treatment',\n",
       "       'Pulmonary_Tuberculosis', 'Presumed_Drowning', 'Cancer',\n",
       "       'Floating_in_Water', 'Hanging', 'Traffic_Accident', 'Drowning',\n",
       "       'Physical_Assault', 'Heart_Failure', 'Sepsis',\n",
       "       'Pneumonia_Infection', 'Assault_Stab_Wound',\n",
       "       'Unknown_Cause_(Assault)', 'Electrocution', 'Fall_from_Height'],\n",
       "      dtype=object)"
      ]
     },
     "execution_count": 18,
     "metadata": {},
     "output_type": "execute_result"
    }
   ],
   "source": [
    "df_final['causeofDeath'].unique()"
   ]
  },
  {
   "cell_type": "code",
   "execution_count": 19,
   "id": "a6fb55cc",
   "metadata": {
    "execution": {
     "iopub.execute_input": "2025-02-17T14:58:44.324440Z",
     "iopub.status.busy": "2025-02-17T14:58:44.324079Z",
     "iopub.status.idle": "2025-02-17T14:58:44.351300Z",
     "shell.execute_reply": "2025-02-17T14:58:44.350153Z"
    },
    "papermill": {
     "duration": 0.037085,
     "end_time": "2025-02-17T14:58:44.353198",
     "exception": false,
     "start_time": "2025-02-17T14:58:44.316113",
     "status": "completed"
    },
    "tags": []
   },
   "outputs": [
    {
     "name": "stdout",
     "output_type": "stream",
     "text": [
      "              condition  autopsyYear gender autopsyDate   causeofDeath\n",
      "0    The body is intact       2568.0   male  2025-02-01  Unknown_Cause\n",
      "1    The body is intact       2568.0   male  2025-02-01  Unknown_Cause\n",
      "2    The body is intact       2568.0   male  2025-01-24  Unknown_Cause\n",
      "3    The body is intact       2568.0   male  2025-01-24  Unknown_Cause\n",
      "4    The body is intact       2568.0   male  2025-01-13  Unknown_Cause\n",
      "..                  ...          ...    ...         ...            ...\n",
      "577  The body is intact       2562.0   male  2019-01-12  Unknown_Cause\n",
      "578  The body is intact       2562.0   male  2019-01-07  Unknown_Cause\n",
      "579  The body is intact       2562.0   male  2019-01-07  Unknown_Cause\n",
      "580  The body is intact       2562.0   male  2019-01-05  Unknown_Cause\n",
      "581  The body is intact       2562.0   male  2019-01-03  Unknown_Cause\n",
      "\n",
      "[575 rows x 5 columns]\n",
      "              condition  autopsyYear gender autopsyDate   causeofDeath\n",
      "0    The body is intact       2568.0   male  2025-02-01  Unknown_Cause\n",
      "1    The body is intact       2568.0   male  2025-02-01  Unknown_Cause\n",
      "2    The body is intact       2568.0   male  2025-01-24  Unknown_Cause\n",
      "3    The body is intact       2568.0   male  2025-01-24  Unknown_Cause\n",
      "4    The body is intact       2568.0   male  2025-01-13  Unknown_Cause\n",
      "..                  ...          ...    ...         ...            ...\n",
      "577  The body is intact       2562.0   male  2019-01-12  Unknown_Cause\n",
      "578  The body is intact       2562.0   male  2019-01-07  Unknown_Cause\n",
      "579  The body is intact       2562.0   male  2019-01-07  Unknown_Cause\n",
      "580  The body is intact       2562.0   male  2019-01-05  Unknown_Cause\n",
      "581  The body is intact       2562.0   male  2019-01-03  Unknown_Cause\n",
      "\n",
      "[575 rows x 5 columns]\n"
     ]
    }
   ],
   "source": [
    "\n",
    "df_final[\"autopsyDate\"] = df_final[\"autopsyDate\"]\\\n",
    "    .str.replace(\"มกราคม\", \"01\", regex=False)\\\n",
    "    .str.replace(\"กุมภาพันธ์\", \"02\", regex=False)\\\n",
    "    .str.replace(\"มีนาคม\", \"03\", regex=False)\\\n",
    "    .str.replace(\"เมษายน\", \"04\", regex=False)\\\n",
    "    .str.replace(\"พฤษภาคม\", \"05\", regex=False)\\\n",
    "    .str.replace(\"มิถุนายน\", \"06\", regex=False)\\\n",
    "    .str.replace(\"กรกฎาคม\", \"07\", regex=False)\\\n",
    "    .str.replace(\"สิงหาคม\", \"08\", regex=False)\\\n",
    "    .str.replace(\"กันยายน\", \"09\", regex=False)\\\n",
    "    .str.replace(\"ตุลาคม\", \"10\", regex=False)\\\n",
    "    .str.replace(\"พฤศจิกายน\", \"11\", regex=False)\\\n",
    "    .str.replace(\"ธันวาคม\", \"12\", regex=False)\n",
    "\n",
    "\n",
    "df_final[\"autopsyDate\"] = df_final[\"autopsyDate\"].str.replace(r'(\\d{4})', lambda x: str(int(x.group(0)) - 543), regex=True)\n",
    "\n",
    "df_final[\"autopsyDate\"] = pd.to_datetime(df_final[\"autopsyDate\"], format=\"%d %m %Y\").dt.date\n",
    "\n",
    "print(df_final)\n",
    "\n",
    "\n",
    "\n",
    "print(df_final)\n"
   ]
  },
  {
   "cell_type": "code",
   "execution_count": 20,
   "id": "a7475d2a",
   "metadata": {
    "execution": {
     "iopub.execute_input": "2025-02-17T14:58:44.369989Z",
     "iopub.status.busy": "2025-02-17T14:58:44.369567Z",
     "iopub.status.idle": "2025-02-17T14:58:44.375064Z",
     "shell.execute_reply": "2025-02-17T14:58:44.373979Z"
    },
    "papermill": {
     "duration": 0.016049,
     "end_time": "2025-02-17T14:58:44.376765",
     "exception": false,
     "start_time": "2025-02-17T14:58:44.360716",
     "status": "completed"
    },
    "tags": []
   },
   "outputs": [],
   "source": [
    "df_final['autopsyYear'] = df_final['autopsyYear'].astype(int) - 543\n"
   ]
  },
  {
   "cell_type": "code",
   "execution_count": 21,
   "id": "b597814a",
   "metadata": {
    "execution": {
     "iopub.execute_input": "2025-02-17T14:58:44.392673Z",
     "iopub.status.busy": "2025-02-17T14:58:44.392311Z",
     "iopub.status.idle": "2025-02-17T14:58:44.431381Z",
     "shell.execute_reply": "2025-02-17T14:58:44.430200Z"
    },
    "papermill": {
     "duration": 0.049422,
     "end_time": "2025-02-17T14:58:44.433476",
     "exception": false,
     "start_time": "2025-02-17T14:58:44.384054",
     "status": "completed"
    },
    "tags": []
   },
   "outputs": [],
   "source": [
    "import pandas as pd\n",
    "import sqlite3\n",
    "\n",
    "conn = sqlite3.connect('panthep_test.db')\n",
    "df_final.to_sql('people', conn, if_exists='replace', index=False)\n",
    "conn.close()"
   ]
  },
  {
   "cell_type": "code",
   "execution_count": 22,
   "id": "220acea8",
   "metadata": {
    "execution": {
     "iopub.execute_input": "2025-02-17T14:58:44.449322Z",
     "iopub.status.busy": "2025-02-17T14:58:44.448993Z",
     "iopub.status.idle": "2025-02-17T14:58:45.120056Z",
     "shell.execute_reply": "2025-02-17T14:58:45.118891Z"
    },
    "papermill": {
     "duration": 0.681488,
     "end_time": "2025-02-17T14:58:45.122469",
     "exception": false,
     "start_time": "2025-02-17T14:58:44.440981",
     "status": "completed"
    },
    "tags": []
   },
   "outputs": [],
   "source": [
    "df_final.to_excel('panthep_test.xlsx', index=False)"
   ]
  },
  {
   "cell_type": "code",
   "execution_count": 23,
   "id": "51681f7a",
   "metadata": {
    "execution": {
     "iopub.execute_input": "2025-02-17T14:58:45.139327Z",
     "iopub.status.busy": "2025-02-17T14:58:45.138847Z",
     "iopub.status.idle": "2025-02-17T14:58:45.142699Z",
     "shell.execute_reply": "2025-02-17T14:58:45.141841Z"
    },
    "papermill": {
     "duration": 0.013982,
     "end_time": "2025-02-17T14:58:45.144320",
     "exception": false,
     "start_time": "2025-02-17T14:58:45.130338",
     "status": "completed"
    },
    "tags": []
   },
   "outputs": [],
   "source": [
    "#import os\n",
    "\n",
    "\n",
    "#file_path = '/kaggle/working/panthep_test.db'\n",
    "\n",
    "\n",
    "#if os.path.exists(file_path):\n",
    "    #os.remove(file_path)\n",
    "    #print(f\"ไฟล์ {file_path} ถูกลบเรียบร้อยแล้ว\")\n",
    "#else:\n",
    "    #print(f\"ไฟล์ {file_path} ไม่พบในระบบ\")\n"
   ]
  },
  {
   "cell_type": "code",
   "execution_count": 24,
   "id": "b91753fe",
   "metadata": {
    "execution": {
     "iopub.execute_input": "2025-02-17T14:58:45.160188Z",
     "iopub.status.busy": "2025-02-17T14:58:45.159823Z",
     "iopub.status.idle": "2025-02-17T14:58:45.331265Z",
     "shell.execute_reply": "2025-02-17T14:58:45.330141Z"
    },
    "papermill": {
     "duration": 0.181509,
     "end_time": "2025-02-17T14:58:45.333140",
     "exception": false,
     "start_time": "2025-02-17T14:58:45.151631",
     "status": "completed"
    },
    "tags": []
   },
   "outputs": [
    {
     "data": {
      "text/html": [
       "<div>\n",
       "<style scoped>\n",
       "    .dataframe tbody tr th:only-of-type {\n",
       "        vertical-align: middle;\n",
       "    }\n",
       "\n",
       "    .dataframe tbody tr th {\n",
       "        vertical-align: top;\n",
       "    }\n",
       "\n",
       "    .dataframe thead th {\n",
       "        text-align: right;\n",
       "    }\n",
       "</style>\n",
       "<table border=\"1\" class=\"dataframe\">\n",
       "  <thead>\n",
       "    <tr style=\"text-align: right;\">\n",
       "      <th></th>\n",
       "      <th>condition</th>\n",
       "      <th>autopsyYear</th>\n",
       "      <th>gender</th>\n",
       "      <th>autopsyDate</th>\n",
       "      <th>causeofDeath</th>\n",
       "    </tr>\n",
       "  </thead>\n",
       "  <tbody>\n",
       "    <tr>\n",
       "      <th>0</th>\n",
       "      <td>The body is intact</td>\n",
       "      <td>2025</td>\n",
       "      <td>male</td>\n",
       "      <td>2025-02-01</td>\n",
       "      <td>Unknown_Cause</td>\n",
       "    </tr>\n",
       "    <tr>\n",
       "      <th>1</th>\n",
       "      <td>The body is intact</td>\n",
       "      <td>2025</td>\n",
       "      <td>male</td>\n",
       "      <td>2025-02-01</td>\n",
       "      <td>Unknown_Cause</td>\n",
       "    </tr>\n",
       "    <tr>\n",
       "      <th>2</th>\n",
       "      <td>The body is intact</td>\n",
       "      <td>2025</td>\n",
       "      <td>male</td>\n",
       "      <td>2025-01-24</td>\n",
       "      <td>Unknown_Cause</td>\n",
       "    </tr>\n",
       "    <tr>\n",
       "      <th>3</th>\n",
       "      <td>The body is intact</td>\n",
       "      <td>2025</td>\n",
       "      <td>male</td>\n",
       "      <td>2025-01-24</td>\n",
       "      <td>Unknown_Cause</td>\n",
       "    </tr>\n",
       "    <tr>\n",
       "      <th>4</th>\n",
       "      <td>The body is intact</td>\n",
       "      <td>2025</td>\n",
       "      <td>male</td>\n",
       "      <td>2025-01-13</td>\n",
       "      <td>Unknown_Cause</td>\n",
       "    </tr>\n",
       "    <tr>\n",
       "      <th>...</th>\n",
       "      <td>...</td>\n",
       "      <td>...</td>\n",
       "      <td>...</td>\n",
       "      <td>...</td>\n",
       "      <td>...</td>\n",
       "    </tr>\n",
       "    <tr>\n",
       "      <th>570</th>\n",
       "      <td>The body is intact</td>\n",
       "      <td>2019</td>\n",
       "      <td>male</td>\n",
       "      <td>2019-01-12</td>\n",
       "      <td>Unknown_Cause</td>\n",
       "    </tr>\n",
       "    <tr>\n",
       "      <th>571</th>\n",
       "      <td>The body is intact</td>\n",
       "      <td>2019</td>\n",
       "      <td>male</td>\n",
       "      <td>2019-01-07</td>\n",
       "      <td>Unknown_Cause</td>\n",
       "    </tr>\n",
       "    <tr>\n",
       "      <th>572</th>\n",
       "      <td>The body is intact</td>\n",
       "      <td>2019</td>\n",
       "      <td>male</td>\n",
       "      <td>2019-01-07</td>\n",
       "      <td>Unknown_Cause</td>\n",
       "    </tr>\n",
       "    <tr>\n",
       "      <th>573</th>\n",
       "      <td>The body is intact</td>\n",
       "      <td>2019</td>\n",
       "      <td>male</td>\n",
       "      <td>2019-01-05</td>\n",
       "      <td>Unknown_Cause</td>\n",
       "    </tr>\n",
       "    <tr>\n",
       "      <th>574</th>\n",
       "      <td>The body is intact</td>\n",
       "      <td>2019</td>\n",
       "      <td>male</td>\n",
       "      <td>2019-01-03</td>\n",
       "      <td>Unknown_Cause</td>\n",
       "    </tr>\n",
       "  </tbody>\n",
       "</table>\n",
       "<p>575 rows × 5 columns</p>\n",
       "</div>"
      ],
      "text/plain": [
       "              condition  autopsyYear gender autopsyDate   causeofDeath\n",
       "0    The body is intact         2025   male  2025-02-01  Unknown_Cause\n",
       "1    The body is intact         2025   male  2025-02-01  Unknown_Cause\n",
       "2    The body is intact         2025   male  2025-01-24  Unknown_Cause\n",
       "3    The body is intact         2025   male  2025-01-24  Unknown_Cause\n",
       "4    The body is intact         2025   male  2025-01-13  Unknown_Cause\n",
       "..                  ...          ...    ...         ...            ...\n",
       "570  The body is intact         2019   male  2019-01-12  Unknown_Cause\n",
       "571  The body is intact         2019   male  2019-01-07  Unknown_Cause\n",
       "572  The body is intact         2019   male  2019-01-07  Unknown_Cause\n",
       "573  The body is intact         2019   male  2019-01-05  Unknown_Cause\n",
       "574  The body is intact         2019   male  2019-01-03  Unknown_Cause\n",
       "\n",
       "[575 rows x 5 columns]"
      ]
     },
     "execution_count": 24,
     "metadata": {},
     "output_type": "execute_result"
    }
   ],
   "source": [
    "df = pd.read_excel('/kaggle/working/panthep_test.xlsx',header=0)\n",
    "df"
   ]
  },
  {
   "cell_type": "code",
   "execution_count": 25,
   "id": "b3f664ff",
   "metadata": {
    "execution": {
     "iopub.execute_input": "2025-02-17T14:58:45.349447Z",
     "iopub.status.busy": "2025-02-17T14:58:45.349092Z",
     "iopub.status.idle": "2025-02-17T14:58:45.355127Z",
     "shell.execute_reply": "2025-02-17T14:58:45.354262Z"
    },
    "papermill": {
     "duration": 0.015787,
     "end_time": "2025-02-17T14:58:45.356667",
     "exception": false,
     "start_time": "2025-02-17T14:58:45.340880",
     "status": "completed"
    },
    "tags": []
   },
   "outputs": [
    {
     "data": {
      "text/plain": [
       "array(['Unknown_Cause', 'Other', 'Accident', 'Accident_Under_Treatment',\n",
       "       'Pulmonary_Tuberculosis', 'Presumed_Drowning', 'Cancer',\n",
       "       'Floating_in_Water', 'Hanging', 'Traffic_Accident', 'Drowning',\n",
       "       'Physical_Assault', 'Heart_Failure', 'Sepsis',\n",
       "       'Pneumonia_Infection', 'Assault_Stab_Wound',\n",
       "       'Unknown_Cause_(Assault)', 'Electrocution', 'Fall_from_Height'],\n",
       "      dtype=object)"
      ]
     },
     "execution_count": 25,
     "metadata": {},
     "output_type": "execute_result"
    }
   ],
   "source": [
    "df['causeofDeath'].unique()"
   ]
  },
  {
   "cell_type": "code",
   "execution_count": 26,
   "id": "6e7b84d6",
   "metadata": {
    "execution": {
     "iopub.execute_input": "2025-02-17T14:58:45.373086Z",
     "iopub.status.busy": "2025-02-17T14:58:45.372685Z",
     "iopub.status.idle": "2025-02-17T14:58:45.384304Z",
     "shell.execute_reply": "2025-02-17T14:58:45.382875Z"
    },
    "papermill": {
     "duration": 0.021579,
     "end_time": "2025-02-17T14:58:45.385900",
     "exception": false,
     "start_time": "2025-02-17T14:58:45.364321",
     "status": "completed"
    },
    "tags": []
   },
   "outputs": [
    {
     "name": "stdout",
     "output_type": "stream",
     "text": [
      "              condition  autopsyYear gender autopsyDate   causeofDeath\n",
      "0    The body is intact         2025   male  2025-02-01  Unknown_Cause\n",
      "1    The body is intact         2025   male  2025-02-01  Unknown_Cause\n",
      "2    The body is intact         2025   male  2025-01-24  Unknown_Cause\n",
      "3    The body is intact         2025   male  2025-01-24  Unknown_Cause\n",
      "4    The body is intact         2025   male  2025-01-13  Unknown_Cause\n",
      "..                  ...          ...    ...         ...            ...\n",
      "570  The body is intact         2019   male  2019-01-12  Unknown_Cause\n",
      "571  The body is intact         2019   male  2019-01-07  Unknown_Cause\n",
      "572  The body is intact         2019   male  2019-01-07  Unknown_Cause\n",
      "573  The body is intact         2019   male  2019-01-05  Unknown_Cause\n",
      "574  The body is intact         2019   male  2019-01-03  Unknown_Cause\n",
      "\n",
      "[575 rows x 5 columns]\n"
     ]
    }
   ],
   "source": [
    "import sqlite3\n",
    "import pandas as pd\n",
    "\n",
    "# สร้างการเชื่อมต่อกับฐานข้อมูล SQLite\n",
    "conn = sqlite3.connect('/kaggle/working/panthep_test.db')\n",
    "\n",
    "# อ่านข้อมูลจากตารางในฐานข้อมูล (เช่น `table_name`) มาเป็น DataFrame\n",
    "df2 = pd.read_sql('SELECT * FROM people', conn)\n",
    "\n",
    "# ปิดการเชื่อมต่อ\n",
    "conn.close()\n",
    "\n",
    "# แสดงผล DataFrame\n",
    "print(df2)\n"
   ]
  },
  {
   "cell_type": "code",
   "execution_count": 27,
   "id": "19dd6a43",
   "metadata": {
    "execution": {
     "iopub.execute_input": "2025-02-17T14:58:45.403212Z",
     "iopub.status.busy": "2025-02-17T14:58:45.402845Z",
     "iopub.status.idle": "2025-02-17T14:58:45.409577Z",
     "shell.execute_reply": "2025-02-17T14:58:45.408338Z"
    },
    "papermill": {
     "duration": 0.017326,
     "end_time": "2025-02-17T14:58:45.411495",
     "exception": false,
     "start_time": "2025-02-17T14:58:45.394169",
     "status": "completed"
    },
    "tags": []
   },
   "outputs": [
    {
     "data": {
      "text/plain": [
       "array(['Unknown_Cause', 'Other', 'Accident', 'Accident_Under_Treatment',\n",
       "       'Pulmonary_Tuberculosis', 'Presumed_Drowning', 'Cancer',\n",
       "       'Floating_in_Water', 'Hanging', 'Traffic_Accident', 'Drowning',\n",
       "       'Physical_Assault', 'Heart_Failure', 'Sepsis',\n",
       "       'Pneumonia_Infection', 'Assault_Stab_Wound',\n",
       "       'Unknown_Cause_(Assault)', 'Electrocution', 'Fall_from_Height'],\n",
       "      dtype=object)"
      ]
     },
     "execution_count": 27,
     "metadata": {},
     "output_type": "execute_result"
    }
   ],
   "source": [
    "df2['causeofDeath'].unique()"
   ]
  },
  {
   "cell_type": "code",
   "execution_count": 28,
   "id": "9bbd0679",
   "metadata": {
    "execution": {
     "iopub.execute_input": "2025-02-17T14:58:45.428667Z",
     "iopub.status.busy": "2025-02-17T14:58:45.428331Z",
     "iopub.status.idle": "2025-02-17T14:58:45.435965Z",
     "shell.execute_reply": "2025-02-17T14:58:45.434934Z"
    },
    "papermill": {
     "duration": 0.01811,
     "end_time": "2025-02-17T14:58:45.437689",
     "exception": false,
     "start_time": "2025-02-17T14:58:45.419579",
     "status": "completed"
    },
    "tags": []
   },
   "outputs": [
    {
     "data": {
      "text/plain": [
       "condition       0\n",
       "autopsyYear     0\n",
       "gender          0\n",
       "autopsyDate     0\n",
       "causeofDeath    0\n",
       "dtype: int64"
      ]
     },
     "execution_count": 28,
     "metadata": {},
     "output_type": "execute_result"
    }
   ],
   "source": [
    "df2.isnull().sum()"
   ]
  },
  {
   "cell_type": "code",
   "execution_count": 29,
   "id": "107b6a22",
   "metadata": {
    "execution": {
     "iopub.execute_input": "2025-02-17T14:58:45.455632Z",
     "iopub.status.busy": "2025-02-17T14:58:45.455268Z",
     "iopub.status.idle": "2025-02-17T14:58:45.466656Z",
     "shell.execute_reply": "2025-02-17T14:58:45.465689Z"
    },
    "papermill": {
     "duration": 0.022235,
     "end_time": "2025-02-17T14:58:45.468354",
     "exception": false,
     "start_time": "2025-02-17T14:58:45.446119",
     "status": "completed"
    },
    "tags": []
   },
   "outputs": [
    {
     "data": {
      "text/html": [
       "<div>\n",
       "<style scoped>\n",
       "    .dataframe tbody tr th:only-of-type {\n",
       "        vertical-align: middle;\n",
       "    }\n",
       "\n",
       "    .dataframe tbody tr th {\n",
       "        vertical-align: top;\n",
       "    }\n",
       "\n",
       "    .dataframe thead th {\n",
       "        text-align: right;\n",
       "    }\n",
       "</style>\n",
       "<table border=\"1\" class=\"dataframe\">\n",
       "  <thead>\n",
       "    <tr style=\"text-align: right;\">\n",
       "      <th></th>\n",
       "      <th>causeofDeath</th>\n",
       "      <th>count</th>\n",
       "    </tr>\n",
       "  </thead>\n",
       "  <tbody>\n",
       "    <tr>\n",
       "      <th>0</th>\n",
       "      <td>Accident</td>\n",
       "      <td>4</td>\n",
       "    </tr>\n",
       "    <tr>\n",
       "      <th>1</th>\n",
       "      <td>Accident_Under_Treatment</td>\n",
       "      <td>2</td>\n",
       "    </tr>\n",
       "    <tr>\n",
       "      <th>2</th>\n",
       "      <td>Assault_Stab_Wound</td>\n",
       "      <td>1</td>\n",
       "    </tr>\n",
       "    <tr>\n",
       "      <th>3</th>\n",
       "      <td>Cancer</td>\n",
       "      <td>1</td>\n",
       "    </tr>\n",
       "    <tr>\n",
       "      <th>4</th>\n",
       "      <td>Drowning</td>\n",
       "      <td>3</td>\n",
       "    </tr>\n",
       "    <tr>\n",
       "      <th>5</th>\n",
       "      <td>Electrocution</td>\n",
       "      <td>1</td>\n",
       "    </tr>\n",
       "    <tr>\n",
       "      <th>6</th>\n",
       "      <td>Fall_from_Height</td>\n",
       "      <td>1</td>\n",
       "    </tr>\n",
       "    <tr>\n",
       "      <th>7</th>\n",
       "      <td>Floating_in_Water</td>\n",
       "      <td>5</td>\n",
       "    </tr>\n",
       "    <tr>\n",
       "      <th>8</th>\n",
       "      <td>Hanging</td>\n",
       "      <td>6</td>\n",
       "    </tr>\n",
       "    <tr>\n",
       "      <th>9</th>\n",
       "      <td>Heart_Failure</td>\n",
       "      <td>1</td>\n",
       "    </tr>\n",
       "    <tr>\n",
       "      <th>10</th>\n",
       "      <td>Other</td>\n",
       "      <td>22</td>\n",
       "    </tr>\n",
       "    <tr>\n",
       "      <th>11</th>\n",
       "      <td>Physical_Assault</td>\n",
       "      <td>1</td>\n",
       "    </tr>\n",
       "    <tr>\n",
       "      <th>12</th>\n",
       "      <td>Pneumonia_Infection</td>\n",
       "      <td>1</td>\n",
       "    </tr>\n",
       "    <tr>\n",
       "      <th>13</th>\n",
       "      <td>Presumed_Drowning</td>\n",
       "      <td>1</td>\n",
       "    </tr>\n",
       "    <tr>\n",
       "      <th>14</th>\n",
       "      <td>Pulmonary_Tuberculosis</td>\n",
       "      <td>1</td>\n",
       "    </tr>\n",
       "    <tr>\n",
       "      <th>15</th>\n",
       "      <td>Sepsis</td>\n",
       "      <td>1</td>\n",
       "    </tr>\n",
       "    <tr>\n",
       "      <th>16</th>\n",
       "      <td>Traffic_Accident</td>\n",
       "      <td>1</td>\n",
       "    </tr>\n",
       "    <tr>\n",
       "      <th>17</th>\n",
       "      <td>Unknown_Cause</td>\n",
       "      <td>521</td>\n",
       "    </tr>\n",
       "    <tr>\n",
       "      <th>18</th>\n",
       "      <td>Unknown_Cause_(Assault)</td>\n",
       "      <td>1</td>\n",
       "    </tr>\n",
       "  </tbody>\n",
       "</table>\n",
       "</div>"
      ],
      "text/plain": [
       "                causeofDeath  count\n",
       "0                   Accident      4\n",
       "1   Accident_Under_Treatment      2\n",
       "2         Assault_Stab_Wound      1\n",
       "3                     Cancer      1\n",
       "4                   Drowning      3\n",
       "5              Electrocution      1\n",
       "6           Fall_from_Height      1\n",
       "7          Floating_in_Water      5\n",
       "8                    Hanging      6\n",
       "9              Heart_Failure      1\n",
       "10                     Other     22\n",
       "11          Physical_Assault      1\n",
       "12       Pneumonia_Infection      1\n",
       "13         Presumed_Drowning      1\n",
       "14    Pulmonary_Tuberculosis      1\n",
       "15                    Sepsis      1\n",
       "16          Traffic_Accident      1\n",
       "17             Unknown_Cause    521\n",
       "18   Unknown_Cause_(Assault)      1"
      ]
     },
     "execution_count": 29,
     "metadata": {},
     "output_type": "execute_result"
    }
   ],
   "source": [
    "df2.groupby('causeofDeath').size().reset_index(name='count')\n"
   ]
  },
  {
   "cell_type": "code",
   "execution_count": null,
   "id": "a592a5ca",
   "metadata": {
    "papermill": {
     "duration": 0.007497,
     "end_time": "2025-02-17T14:58:45.483873",
     "exception": false,
     "start_time": "2025-02-17T14:58:45.476376",
     "status": "completed"
    },
    "tags": []
   },
   "outputs": [],
   "source": []
  }
 ],
 "metadata": {
  "kaggle": {
   "accelerator": "none",
   "dataSources": [],
   "dockerImageVersionId": 30886,
   "isGpuEnabled": false,
   "isInternetEnabled": true,
   "language": "python",
   "sourceType": "notebook"
  },
  "kernelspec": {
   "display_name": "Python 3",
   "language": "python",
   "name": "python3"
  },
  "language_info": {
   "codemirror_mode": {
    "name": "ipython",
    "version": 3
   },
   "file_extension": ".py",
   "mimetype": "text/x-python",
   "name": "python",
   "nbconvert_exporter": "python",
   "pygments_lexer": "ipython3",
   "version": "3.10.12"
  },
  "papermill": {
   "default_parameters": {},
   "duration": 7.424557,
   "end_time": "2025-02-17T14:58:46.112659",
   "environment_variables": {},
   "exception": null,
   "input_path": "__notebook__.ipynb",
   "output_path": "__notebook__.ipynb",
   "parameters": {},
   "start_time": "2025-02-17T14:58:38.688102",
   "version": "2.6.0"
  }
 },
 "nbformat": 4,
 "nbformat_minor": 5
}
