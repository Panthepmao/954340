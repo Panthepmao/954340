{
 "cells": [
  {
   "cell_type": "code",
   "execution_count": 1,
   "id": "ab4a4f0e",
   "metadata": {
    "_cell_guid": "b1076dfc-b9ad-4769-8c92-a6c4dae69d19",
    "_uuid": "8f2839f25d086af736a60e9eeb907d3b93b6e0e5",
    "execution": {
     "iopub.execute_input": "2025-02-16T11:28:39.032067Z",
     "iopub.status.busy": "2025-02-16T11:28:39.031672Z",
     "iopub.status.idle": "2025-02-16T11:28:39.949709Z",
     "shell.execute_reply": "2025-02-16T11:28:39.948822Z"
    },
    "papermill": {
     "duration": 0.92818,
     "end_time": "2025-02-16T11:28:39.951490",
     "exception": false,
     "start_time": "2025-02-16T11:28:39.023310",
     "status": "completed"
    },
    "tags": []
   },
   "outputs": [],
   "source": [
    "# This Python 3 environment comes with many helpful analytics libraries installed\n",
    "# It is defined by the kaggle/python Docker image: https://github.com/kaggle/docker-python\n",
    "# For example, here's several helpful packages to load\n",
    "\n",
    "import numpy as np # linear algebra\n",
    "import pandas as pd # data processing, CSV file I/O (e.g. pd.read_csv)\n",
    "\n",
    "# Input data files are available in the read-only \"../input/\" directory\n",
    "# For example, running this (by clicking run or pressing Shift+Enter) will list all files under the input directory\n",
    "\n",
    "import os\n",
    "for dirname, _, filenames in os.walk('/kaggle/input'):\n",
    "    for filename in filenames:\n",
    "        print(os.path.join(dirname, filename))\n",
    "\n",
    "# You can write up to 20GB to the current directory (/kaggle/working/) that gets preserved as output when you create a version using \"Save & Run All\" \n",
    "# You can also write temporary files to /kaggle/temp/, but they won't be saved outside of the current session"
   ]
  },
  {
   "cell_type": "code",
   "execution_count": 2,
   "id": "2a9a1c9a",
   "metadata": {
    "execution": {
     "iopub.execute_input": "2025-02-16T11:28:39.965477Z",
     "iopub.status.busy": "2025-02-16T11:28:39.964927Z",
     "iopub.status.idle": "2025-02-16T11:28:39.969518Z",
     "shell.execute_reply": "2025-02-16T11:28:39.968613Z"
    },
    "papermill": {
     "duration": 0.013155,
     "end_time": "2025-02-16T11:28:39.971090",
     "exception": false,
     "start_time": "2025-02-16T11:28:39.957935",
     "status": "completed"
    },
    "tags": []
   },
   "outputs": [],
   "source": [
    "def warn (*args, **kwargs):\n",
    "    pass\n",
    "import warnings\n",
    "warnings.warn = warn"
   ]
  },
  {
   "cell_type": "code",
   "execution_count": 3,
   "id": "34030734",
   "metadata": {
    "execution": {
     "iopub.execute_input": "2025-02-16T11:28:39.984522Z",
     "iopub.status.busy": "2025-02-16T11:28:39.984158Z",
     "iopub.status.idle": "2025-02-16T11:28:41.209121Z",
     "shell.execute_reply": "2025-02-16T11:28:41.207859Z"
    },
    "papermill": {
     "duration": 1.233599,
     "end_time": "2025-02-16T11:28:41.210797",
     "exception": false,
     "start_time": "2025-02-16T11:28:39.977198",
     "status": "completed"
    },
    "tags": []
   },
   "outputs": [
    {
     "name": "stdout",
     "output_type": "stream",
     "text": [
      "         condition  autopsyYear gender         autopsyDate   causeofDeath  \\\n",
      "0  ศพมีสภาพสมบูรณ์       2568.0    ชาย  01 กุมภาพันธ์ 2568  ไม่ทราบสาเหตุ   \n",
      "1  ศพมีสภาพสมบูรณ์       2568.0    ชาย  01 กุมภาพันธ์ 2568  ไม่ทราบสาเหตุ   \n",
      "2  ศพมีสภาพสมบูรณ์       2568.0    ชาย      24 มกราคม 2568  ไม่ทราบสาเหตุ   \n",
      "3  ศพมีสภาพสมบูรณ์       2568.0    ชาย      24 มกราคม 2568  ไม่ทราบสาเหตุ   \n",
      "4  ศพมีสภาพสมบูรณ์       2568.0    ชาย      13 มกราคม 2568  ไม่ทราบสาเหตุ   \n",
      "\n",
      "  foreign  \n",
      "0    None  \n",
      "1    None  \n",
      "2    None  \n",
      "3    None  \n",
      "4    None  \n"
     ]
    }
   ],
   "source": [
    "import pandas as pd\n",
    "import requests\n",
    "\n",
    "try:\n",
    "   \n",
    "    response = requests.get('https://api.thaimissing.go.th/api/v1/cir-Datacatalog/DataNorelativePerson')\n",
    "    response.raise_for_status() \n",
    "\n",
    "\n",
    "    data = response.json()\n",
    "    df = pd.DataFrame(data)  \n",
    "\n",
    "    # แสดงข้อมูล 5 แถวแรก\n",
    "    print(df.head())\n",
    "\n",
    "except requests.exceptions.RequestException as e:\n",
    "    print(f\"เกิดข้อผิดพลาด: {e}\")\n"
   ]
  },
  {
   "cell_type": "code",
   "execution_count": 4,
   "id": "92dec029",
   "metadata": {
    "execution": {
     "iopub.execute_input": "2025-02-16T11:28:41.224177Z",
     "iopub.status.busy": "2025-02-16T11:28:41.223802Z",
     "iopub.status.idle": "2025-02-16T11:28:41.251882Z",
     "shell.execute_reply": "2025-02-16T11:28:41.250883Z"
    },
    "papermill": {
     "duration": 0.036484,
     "end_time": "2025-02-16T11:28:41.253358",
     "exception": false,
     "start_time": "2025-02-16T11:28:41.216874",
     "status": "completed"
    },
    "tags": []
   },
   "outputs": [
    {
     "name": "stdout",
     "output_type": "stream",
     "text": [
      "<class 'pandas.core.frame.DataFrame'>\n",
      "RangeIndex: 583 entries, 0 to 582\n",
      "Data columns (total 6 columns):\n",
      " #   Column        Non-Null Count  Dtype  \n",
      "---  ------        --------------  -----  \n",
      " 0   condition     583 non-null    object \n",
      " 1   autopsyYear   582 non-null    float64\n",
      " 2   gender        583 non-null    object \n",
      " 3   autopsyDate   583 non-null    object \n",
      " 4   causeofDeath  582 non-null    object \n",
      " 5   foreign       43 non-null     object \n",
      "dtypes: float64(1), object(5)\n",
      "memory usage: 27.5+ KB\n"
     ]
    }
   ],
   "source": [
    "df.info()"
   ]
  },
  {
   "cell_type": "code",
   "execution_count": 5,
   "id": "1438ae27",
   "metadata": {
    "execution": {
     "iopub.execute_input": "2025-02-16T11:28:41.267073Z",
     "iopub.status.busy": "2025-02-16T11:28:41.266705Z",
     "iopub.status.idle": "2025-02-16T11:28:41.274756Z",
     "shell.execute_reply": "2025-02-16T11:28:41.273741Z"
    },
    "papermill": {
     "duration": 0.016602,
     "end_time": "2025-02-16T11:28:41.276262",
     "exception": false,
     "start_time": "2025-02-16T11:28:41.259660",
     "status": "completed"
    },
    "tags": []
   },
   "outputs": [
    {
     "data": {
      "text/plain": [
       "condition         0\n",
       "autopsyYear       1\n",
       "gender            0\n",
       "autopsyDate       0\n",
       "causeofDeath      1\n",
       "foreign         540\n",
       "dtype: int64"
      ]
     },
     "execution_count": 5,
     "metadata": {},
     "output_type": "execute_result"
    }
   ],
   "source": [
    "df.isnull().sum()"
   ]
  },
  {
   "cell_type": "code",
   "execution_count": 6,
   "id": "cbae084f",
   "metadata": {
    "execution": {
     "iopub.execute_input": "2025-02-16T11:28:41.290113Z",
     "iopub.status.busy": "2025-02-16T11:28:41.289713Z",
     "iopub.status.idle": "2025-02-16T11:28:41.297266Z",
     "shell.execute_reply": "2025-02-16T11:28:41.296238Z"
    },
    "papermill": {
     "duration": 0.016549,
     "end_time": "2025-02-16T11:28:41.299093",
     "exception": false,
     "start_time": "2025-02-16T11:28:41.282544",
     "status": "completed"
    },
    "tags": []
   },
   "outputs": [
    {
     "data": {
      "text/plain": [
       "condition       0.000000\n",
       "autopsyYear     0.001715\n",
       "gender          0.000000\n",
       "autopsyDate     0.000000\n",
       "causeofDeath    0.001715\n",
       "foreign         0.926244\n",
       "dtype: float64"
      ]
     },
     "execution_count": 6,
     "metadata": {},
     "output_type": "execute_result"
    }
   ],
   "source": [
    "df.isnull().mean()"
   ]
  },
  {
   "cell_type": "code",
   "execution_count": 7,
   "id": "3565b6ca",
   "metadata": {
    "execution": {
     "iopub.execute_input": "2025-02-16T11:28:41.313208Z",
     "iopub.status.busy": "2025-02-16T11:28:41.312817Z",
     "iopub.status.idle": "2025-02-16T11:28:41.319330Z",
     "shell.execute_reply": "2025-02-16T11:28:41.318356Z"
    },
    "papermill": {
     "duration": 0.015371,
     "end_time": "2025-02-16T11:28:41.320895",
     "exception": false,
     "start_time": "2025-02-16T11:28:41.305524",
     "status": "completed"
    },
    "tags": []
   },
   "outputs": [
    {
     "data": {
      "text/plain": [
       "array(['ไม่ทราบสาเหตุ', None, 'อื่นๆ', 'อุบัติเหตุ', 'ปอดอักเสบติดเชื้อ',\n",
       "       'อุบัติเหตุรักษาตัว', 'วัณโรคปอด', 'สันนิษฐานขาดอากาศจากการจมน้ำ',\n",
       "       'โรคมะเร็ง', 'ลอยน้ำ', 'แขวนคอ', 'อุบัติเหตุจราจร', 'จมน้ำ',\n",
       "       'ถูกทำร้ายร่างกาย', 'ระบบหัวใจล้มเหลว', 'ติดเชื้อในกระแสเลือด',\n",
       "       'ผูกคอ', 'ถูกทำร้ายด้วยอาวุธมีด', 'ไม่ทราบสาเหตุ ',\n",
       "       'ไม่ทราบสาเหตุ (ถูกทำร้ายร่างกาย)', 'ไฟฟ้าช็อต', 'ตกที่สูง'],\n",
       "      dtype=object)"
      ]
     },
     "execution_count": 7,
     "metadata": {},
     "output_type": "execute_result"
    }
   ],
   "source": [
    "df['causeofDeath'].unique()"
   ]
  },
  {
   "cell_type": "code",
   "execution_count": 8,
   "id": "a4495db0",
   "metadata": {
    "execution": {
     "iopub.execute_input": "2025-02-16T11:28:41.335539Z",
     "iopub.status.busy": "2025-02-16T11:28:41.335135Z",
     "iopub.status.idle": "2025-02-16T11:28:41.340988Z",
     "shell.execute_reply": "2025-02-16T11:28:41.339961Z"
    },
    "papermill": {
     "duration": 0.015212,
     "end_time": "2025-02-16T11:28:41.342666",
     "exception": false,
     "start_time": "2025-02-16T11:28:41.327454",
     "status": "completed"
    },
    "tags": []
   },
   "outputs": [
    {
     "data": {
      "text/plain": [
       "(583, 6)"
      ]
     },
     "execution_count": 8,
     "metadata": {},
     "output_type": "execute_result"
    }
   ],
   "source": [
    "df.shape"
   ]
  },
  {
   "cell_type": "code",
   "execution_count": 9,
   "id": "c98d6a5a",
   "metadata": {
    "execution": {
     "iopub.execute_input": "2025-02-16T11:28:41.357320Z",
     "iopub.status.busy": "2025-02-16T11:28:41.356909Z",
     "iopub.status.idle": "2025-02-16T11:28:41.369459Z",
     "shell.execute_reply": "2025-02-16T11:28:41.368680Z"
    },
    "papermill": {
     "duration": 0.021781,
     "end_time": "2025-02-16T11:28:41.371253",
     "exception": false,
     "start_time": "2025-02-16T11:28:41.349472",
     "status": "completed"
    },
    "tags": []
   },
   "outputs": [],
   "source": [
    "column_mapping = {\n",
    "    'ไม่ทราบสาเหตุ': 'Unknown_Cause',\n",
    "    'อื่นๆ': 'Other',\n",
    "    'อุบัติเหตุ': 'Accident',\n",
    "    'ปอดอักเสบติดเชื้อ': 'Pneumonia_Infection',\n",
    "    'อุบัติเหตุรักษาตัว': 'Accident_Under_Treatment',\n",
    "    'วัณโรคปอด': 'Pulmonary_Tuberculosis',\n",
    "    'สันนิษฐานขาดอากาศจากการจมน้ำ': 'Presumed_Drowning',\n",
    "    'โรคมะเร็ง': 'Cancer',\n",
    "    'ลอยน้ำ': 'Floating_in_Water',\n",
    "    'แขวนคอ': 'Hanging',\n",
    "    'อุบัติเหตุจราจร': 'Traffic_Accident',\n",
    "    'จมน้ำ': 'Drowning',\n",
    "    'ถูกทำร้ายร่างกาย': 'Physical_Assault',\n",
    "    'ระบบหัวใจล้มเหลว': 'Heart_Failure',\n",
    "    'ติดเชื้อในกระแสเลือด': 'Sepsis',\n",
    "    'ผูกคอ': 'Hanging',\n",
    "    'ถูกทำร้ายด้วยอาวุธมีด': 'Assault_Stab_Wound',\n",
    "    'ไม่ทราบสาเหตุ ': 'Unknown_Cause',\n",
    "    'ไม่ทราบสาเหตุ (ถูกทำร้ายร่างกาย)': 'Unknown_Cause_(Assault)',\n",
    "    'ไฟฟ้าช็อต': 'Electrocution',\n",
    "    'ตกที่สูง': 'Fall_from_Height'\n",
    "}\n",
    "\n",
    "df_cleaned = df.replace(column_mapping)"
   ]
  },
  {
   "cell_type": "code",
   "execution_count": 10,
   "id": "cf2f7c55",
   "metadata": {
    "execution": {
     "iopub.execute_input": "2025-02-16T11:28:41.386134Z",
     "iopub.status.busy": "2025-02-16T11:28:41.385588Z",
     "iopub.status.idle": "2025-02-16T11:28:41.392886Z",
     "shell.execute_reply": "2025-02-16T11:28:41.392061Z"
    },
    "papermill": {
     "duration": 0.016106,
     "end_time": "2025-02-16T11:28:41.394299",
     "exception": false,
     "start_time": "2025-02-16T11:28:41.378193",
     "status": "completed"
    },
    "tags": []
   },
   "outputs": [
    {
     "data": {
      "text/plain": [
       "condition         0\n",
       "autopsyYear       1\n",
       "gender            0\n",
       "autopsyDate       0\n",
       "causeofDeath      1\n",
       "foreign         540\n",
       "dtype: int64"
      ]
     },
     "execution_count": 10,
     "metadata": {},
     "output_type": "execute_result"
    }
   ],
   "source": [
    "df_cleaned.isnull().sum()"
   ]
  },
  {
   "cell_type": "code",
   "execution_count": 11,
   "id": "92f7ed2a",
   "metadata": {
    "execution": {
     "iopub.execute_input": "2025-02-16T11:28:41.408697Z",
     "iopub.status.busy": "2025-02-16T11:28:41.408358Z",
     "iopub.status.idle": "2025-02-16T11:28:41.416415Z",
     "shell.execute_reply": "2025-02-16T11:28:41.415320Z"
    },
    "papermill": {
     "duration": 0.017231,
     "end_time": "2025-02-16T11:28:41.418091",
     "exception": false,
     "start_time": "2025-02-16T11:28:41.400860",
     "status": "completed"
    },
    "tags": []
   },
   "outputs": [],
   "source": [
    "df_cleaned = df_cleaned.drop(columns=['foreign'], axis=1)\n"
   ]
  },
  {
   "cell_type": "code",
   "execution_count": 12,
   "id": "deab6dd8",
   "metadata": {
    "execution": {
     "iopub.execute_input": "2025-02-16T11:28:41.432696Z",
     "iopub.status.busy": "2025-02-16T11:28:41.432366Z",
     "iopub.status.idle": "2025-02-16T11:28:41.438595Z",
     "shell.execute_reply": "2025-02-16T11:28:41.437697Z"
    },
    "papermill": {
     "duration": 0.01541,
     "end_time": "2025-02-16T11:28:41.440179",
     "exception": false,
     "start_time": "2025-02-16T11:28:41.424769",
     "status": "completed"
    },
    "tags": []
   },
   "outputs": [],
   "source": [
    "df_cleaned = df_cleaned.dropna()"
   ]
  },
  {
   "cell_type": "code",
   "execution_count": 13,
   "id": "83670f10",
   "metadata": {
    "execution": {
     "iopub.execute_input": "2025-02-16T11:28:41.454964Z",
     "iopub.status.busy": "2025-02-16T11:28:41.454642Z",
     "iopub.status.idle": "2025-02-16T11:28:41.459985Z",
     "shell.execute_reply": "2025-02-16T11:28:41.458954Z"
    },
    "papermill": {
     "duration": 0.014439,
     "end_time": "2025-02-16T11:28:41.461647",
     "exception": false,
     "start_time": "2025-02-16T11:28:41.447208",
     "status": "completed"
    },
    "tags": []
   },
   "outputs": [],
   "source": [
    "df_final = df_cleaned[df_cleaned['condition'] != '-']\n"
   ]
  },
  {
   "cell_type": "code",
   "execution_count": 14,
   "id": "1214084f",
   "metadata": {
    "execution": {
     "iopub.execute_input": "2025-02-16T11:28:41.476074Z",
     "iopub.status.busy": "2025-02-16T11:28:41.475688Z",
     "iopub.status.idle": "2025-02-16T11:28:41.495290Z",
     "shell.execute_reply": "2025-02-16T11:28:41.494271Z"
    },
    "papermill": {
     "duration": 0.028607,
     "end_time": "2025-02-16T11:28:41.496905",
     "exception": false,
     "start_time": "2025-02-16T11:28:41.468298",
     "status": "completed"
    },
    "tags": []
   },
   "outputs": [
    {
     "data": {
      "text/html": [
       "<div>\n",
       "<style scoped>\n",
       "    .dataframe tbody tr th:only-of-type {\n",
       "        vertical-align: middle;\n",
       "    }\n",
       "\n",
       "    .dataframe tbody tr th {\n",
       "        vertical-align: top;\n",
       "    }\n",
       "\n",
       "    .dataframe thead th {\n",
       "        text-align: right;\n",
       "    }\n",
       "</style>\n",
       "<table border=\"1\" class=\"dataframe\">\n",
       "  <thead>\n",
       "    <tr style=\"text-align: right;\">\n",
       "      <th></th>\n",
       "      <th>condition</th>\n",
       "      <th>autopsyYear</th>\n",
       "      <th>gender</th>\n",
       "      <th>autopsyDate</th>\n",
       "      <th>causeofDeath</th>\n",
       "    </tr>\n",
       "  </thead>\n",
       "  <tbody>\n",
       "    <tr>\n",
       "      <th>0</th>\n",
       "      <td>ศพมีสภาพสมบูรณ์</td>\n",
       "      <td>2568.0</td>\n",
       "      <td>ชาย</td>\n",
       "      <td>01 กุมภาพันธ์ 2568</td>\n",
       "      <td>Unknown_Cause</td>\n",
       "    </tr>\n",
       "    <tr>\n",
       "      <th>1</th>\n",
       "      <td>ศพมีสภาพสมบูรณ์</td>\n",
       "      <td>2568.0</td>\n",
       "      <td>ชาย</td>\n",
       "      <td>01 กุมภาพันธ์ 2568</td>\n",
       "      <td>Unknown_Cause</td>\n",
       "    </tr>\n",
       "    <tr>\n",
       "      <th>2</th>\n",
       "      <td>ศพมีสภาพสมบูรณ์</td>\n",
       "      <td>2568.0</td>\n",
       "      <td>ชาย</td>\n",
       "      <td>24 มกราคม 2568</td>\n",
       "      <td>Unknown_Cause</td>\n",
       "    </tr>\n",
       "    <tr>\n",
       "      <th>3</th>\n",
       "      <td>ศพมีสภาพสมบูรณ์</td>\n",
       "      <td>2568.0</td>\n",
       "      <td>ชาย</td>\n",
       "      <td>24 มกราคม 2568</td>\n",
       "      <td>Unknown_Cause</td>\n",
       "    </tr>\n",
       "    <tr>\n",
       "      <th>4</th>\n",
       "      <td>ศพมีสภาพสมบูรณ์</td>\n",
       "      <td>2568.0</td>\n",
       "      <td>ชาย</td>\n",
       "      <td>13 มกราคม 2568</td>\n",
       "      <td>Unknown_Cause</td>\n",
       "    </tr>\n",
       "    <tr>\n",
       "      <th>...</th>\n",
       "      <td>...</td>\n",
       "      <td>...</td>\n",
       "      <td>...</td>\n",
       "      <td>...</td>\n",
       "      <td>...</td>\n",
       "    </tr>\n",
       "    <tr>\n",
       "      <th>577</th>\n",
       "      <td>ศพมีสภาพสมบูรณ์</td>\n",
       "      <td>2562.0</td>\n",
       "      <td>ชาย</td>\n",
       "      <td>12 มกราคม 2562</td>\n",
       "      <td>Unknown_Cause</td>\n",
       "    </tr>\n",
       "    <tr>\n",
       "      <th>578</th>\n",
       "      <td>ศพมีสภาพสมบูรณ์</td>\n",
       "      <td>2562.0</td>\n",
       "      <td>ชาย</td>\n",
       "      <td>07 มกราคม 2562</td>\n",
       "      <td>Unknown_Cause</td>\n",
       "    </tr>\n",
       "    <tr>\n",
       "      <th>579</th>\n",
       "      <td>ศพมีสภาพสมบูรณ์</td>\n",
       "      <td>2562.0</td>\n",
       "      <td>ชาย</td>\n",
       "      <td>07 มกราคม 2562</td>\n",
       "      <td>Unknown_Cause</td>\n",
       "    </tr>\n",
       "    <tr>\n",
       "      <th>580</th>\n",
       "      <td>ศพมีสภาพสมบูรณ์</td>\n",
       "      <td>2562.0</td>\n",
       "      <td>ชาย</td>\n",
       "      <td>05 มกราคม 2562</td>\n",
       "      <td>Unknown_Cause</td>\n",
       "    </tr>\n",
       "    <tr>\n",
       "      <th>581</th>\n",
       "      <td>ศพมีสภาพสมบูรณ์</td>\n",
       "      <td>2562.0</td>\n",
       "      <td>ชาย</td>\n",
       "      <td>03 มกราคม 2562</td>\n",
       "      <td>Unknown_Cause</td>\n",
       "    </tr>\n",
       "  </tbody>\n",
       "</table>\n",
       "<p>575 rows × 5 columns</p>\n",
       "</div>"
      ],
      "text/plain": [
       "           condition  autopsyYear gender         autopsyDate   causeofDeath\n",
       "0    ศพมีสภาพสมบูรณ์       2568.0    ชาย  01 กุมภาพันธ์ 2568  Unknown_Cause\n",
       "1    ศพมีสภาพสมบูรณ์       2568.0    ชาย  01 กุมภาพันธ์ 2568  Unknown_Cause\n",
       "2    ศพมีสภาพสมบูรณ์       2568.0    ชาย      24 มกราคม 2568  Unknown_Cause\n",
       "3    ศพมีสภาพสมบูรณ์       2568.0    ชาย      24 มกราคม 2568  Unknown_Cause\n",
       "4    ศพมีสภาพสมบูรณ์       2568.0    ชาย      13 มกราคม 2568  Unknown_Cause\n",
       "..               ...          ...    ...                 ...            ...\n",
       "577  ศพมีสภาพสมบูรณ์       2562.0    ชาย      12 มกราคม 2562  Unknown_Cause\n",
       "578  ศพมีสภาพสมบูรณ์       2562.0    ชาย      07 มกราคม 2562  Unknown_Cause\n",
       "579  ศพมีสภาพสมบูรณ์       2562.0    ชาย      07 มกราคม 2562  Unknown_Cause\n",
       "580  ศพมีสภาพสมบูรณ์       2562.0    ชาย      05 มกราคม 2562  Unknown_Cause\n",
       "581  ศพมีสภาพสมบูรณ์       2562.0    ชาย      03 มกราคม 2562  Unknown_Cause\n",
       "\n",
       "[575 rows x 5 columns]"
      ]
     },
     "execution_count": 14,
     "metadata": {},
     "output_type": "execute_result"
    }
   ],
   "source": [
    "df_final"
   ]
  },
  {
   "cell_type": "code",
   "execution_count": 15,
   "id": "93cfad06",
   "metadata": {
    "execution": {
     "iopub.execute_input": "2025-02-16T11:28:41.512268Z",
     "iopub.status.busy": "2025-02-16T11:28:41.511910Z",
     "iopub.status.idle": "2025-02-16T11:28:41.521127Z",
     "shell.execute_reply": "2025-02-16T11:28:41.520246Z"
    },
    "papermill": {
     "duration": 0.018516,
     "end_time": "2025-02-16T11:28:41.522657",
     "exception": false,
     "start_time": "2025-02-16T11:28:41.504141",
     "status": "completed"
    },
    "tags": []
   },
   "outputs": [
    {
     "name": "stdout",
     "output_type": "stream",
     "text": [
      "Column 'condition' has 3 unique values: ['ศพมีสภาพสมบูรณ์' 'ศพมีสภาพเน่า' 'ศพมีสภาพเป็นกระดูก'] ...\n",
      "Column 'autopsyYear' has 7 unique values: [2568. 2567. 2566. 2565. 2564. 2563. 2562.] ...\n",
      "Column 'gender' has 2 unique values: ['ชาย' 'หญิง'] ...\n",
      "Column 'autopsyDate' has 483 unique values: ['01 กุมภาพันธ์ 2568' '24 มกราคม 2568' '13 มกราคม 2568' '27 ธันวาคม 2567'\n",
      " '26 ธันวาคม 2567' '22 ธันวาคม 2567' '25 พฤศจิกายน 2567'\n",
      " '24 พฤศจิกายน 2567' '22 พฤศจิกายน 2567' '15 พฤศจิกายน 2567'] ...\n",
      "Column 'causeofDeath' has 19 unique values: ['Unknown_Cause' 'Other' 'Accident' 'Accident_Under_Treatment'\n",
      " 'Pulmonary_Tuberculosis' 'Presumed_Drowning' 'Cancer' 'Floating_in_Water'\n",
      " 'Hanging' 'Traffic_Accident'] ...\n"
     ]
    }
   ],
   "source": [
    "for col in df_final.columns:\n",
    "    unique_values = df_final[col].unique()\n",
    "    print(f\"Column '{col}' has {len(unique_values)} unique values: {unique_values[:10]} ...\")  # แสดงแค่ 10 ค่าแรก\n"
   ]
  },
  {
   "cell_type": "code",
   "execution_count": 16,
   "id": "767ce2a0",
   "metadata": {
    "execution": {
     "iopub.execute_input": "2025-02-16T11:28:41.538130Z",
     "iopub.status.busy": "2025-02-16T11:28:41.537760Z",
     "iopub.status.idle": "2025-02-16T11:28:41.543620Z",
     "shell.execute_reply": "2025-02-16T11:28:41.542577Z"
    },
    "papermill": {
     "duration": 0.01544,
     "end_time": "2025-02-16T11:28:41.545271",
     "exception": false,
     "start_time": "2025-02-16T11:28:41.529831",
     "status": "completed"
    },
    "tags": []
   },
   "outputs": [],
   "source": [
    "df_final['condition'] = df_final['condition'].replace({\n",
    "    'ศพมีสภาพสมบูรณ์': 'The body is intact',\n",
    "    'ศพมีสภาพเน่า': 'The body is decomposed',\n",
    "    'ศพมีสภาพเป็นกระดูก': 'The body is skeletal',\n",
    "  \n",
    "})\n",
    "\n"
   ]
  },
  {
   "cell_type": "code",
   "execution_count": 17,
   "id": "6c50f4fc",
   "metadata": {
    "execution": {
     "iopub.execute_input": "2025-02-16T11:28:41.562396Z",
     "iopub.status.busy": "2025-02-16T11:28:41.562044Z",
     "iopub.status.idle": "2025-02-16T11:28:41.568489Z",
     "shell.execute_reply": "2025-02-16T11:28:41.567444Z"
    },
    "papermill": {
     "duration": 0.017339,
     "end_time": "2025-02-16T11:28:41.569994",
     "exception": false,
     "start_time": "2025-02-16T11:28:41.552655",
     "status": "completed"
    },
    "tags": []
   },
   "outputs": [],
   "source": [
    "df_final['gender'] =  df_final['gender'].replace('ชาย','male')\n",
    "df_final['gender'] =  df_final['gender'].replace('หญิง','female')"
   ]
  },
  {
   "cell_type": "code",
   "execution_count": 18,
   "id": "335de557",
   "metadata": {
    "execution": {
     "iopub.execute_input": "2025-02-16T11:28:41.585560Z",
     "iopub.status.busy": "2025-02-16T11:28:41.585131Z",
     "iopub.status.idle": "2025-02-16T11:28:41.591753Z",
     "shell.execute_reply": "2025-02-16T11:28:41.590851Z"
    },
    "papermill": {
     "duration": 0.016173,
     "end_time": "2025-02-16T11:28:41.593335",
     "exception": false,
     "start_time": "2025-02-16T11:28:41.577162",
     "status": "completed"
    },
    "tags": []
   },
   "outputs": [
    {
     "data": {
      "text/plain": [
       "array(['Unknown_Cause', 'Other', 'Accident', 'Accident_Under_Treatment',\n",
       "       'Pulmonary_Tuberculosis', 'Presumed_Drowning', 'Cancer',\n",
       "       'Floating_in_Water', 'Hanging', 'Traffic_Accident', 'Drowning',\n",
       "       'Physical_Assault', 'Heart_Failure', 'Sepsis',\n",
       "       'Pneumonia_Infection', 'Assault_Stab_Wound',\n",
       "       'Unknown_Cause_(Assault)', 'Electrocution', 'Fall_from_Height'],\n",
       "      dtype=object)"
      ]
     },
     "execution_count": 18,
     "metadata": {},
     "output_type": "execute_result"
    }
   ],
   "source": [
    "df_final['causeofDeath'].unique()"
   ]
  },
  {
   "cell_type": "code",
   "execution_count": 19,
   "id": "38814d58",
   "metadata": {
    "execution": {
     "iopub.execute_input": "2025-02-16T11:28:41.608843Z",
     "iopub.status.busy": "2025-02-16T11:28:41.608497Z",
     "iopub.status.idle": "2025-02-16T11:28:41.636240Z",
     "shell.execute_reply": "2025-02-16T11:28:41.634893Z"
    },
    "papermill": {
     "duration": 0.037367,
     "end_time": "2025-02-16T11:28:41.637897",
     "exception": false,
     "start_time": "2025-02-16T11:28:41.600530",
     "status": "completed"
    },
    "tags": []
   },
   "outputs": [
    {
     "name": "stdout",
     "output_type": "stream",
     "text": [
      "              condition  autopsyYear gender autopsyDate   causeofDeath\n",
      "0    The body is intact       2568.0   male  2025-02-01  Unknown_Cause\n",
      "1    The body is intact       2568.0   male  2025-02-01  Unknown_Cause\n",
      "2    The body is intact       2568.0   male  2025-01-24  Unknown_Cause\n",
      "3    The body is intact       2568.0   male  2025-01-24  Unknown_Cause\n",
      "4    The body is intact       2568.0   male  2025-01-13  Unknown_Cause\n",
      "..                  ...          ...    ...         ...            ...\n",
      "577  The body is intact       2562.0   male  2019-01-12  Unknown_Cause\n",
      "578  The body is intact       2562.0   male  2019-01-07  Unknown_Cause\n",
      "579  The body is intact       2562.0   male  2019-01-07  Unknown_Cause\n",
      "580  The body is intact       2562.0   male  2019-01-05  Unknown_Cause\n",
      "581  The body is intact       2562.0   male  2019-01-03  Unknown_Cause\n",
      "\n",
      "[575 rows x 5 columns]\n",
      "              condition  autopsyYear gender autopsyDate   causeofDeath\n",
      "0    The body is intact       2568.0   male  2025-02-01  Unknown_Cause\n",
      "1    The body is intact       2568.0   male  2025-02-01  Unknown_Cause\n",
      "2    The body is intact       2568.0   male  2025-01-24  Unknown_Cause\n",
      "3    The body is intact       2568.0   male  2025-01-24  Unknown_Cause\n",
      "4    The body is intact       2568.0   male  2025-01-13  Unknown_Cause\n",
      "..                  ...          ...    ...         ...            ...\n",
      "577  The body is intact       2562.0   male  2019-01-12  Unknown_Cause\n",
      "578  The body is intact       2562.0   male  2019-01-07  Unknown_Cause\n",
      "579  The body is intact       2562.0   male  2019-01-07  Unknown_Cause\n",
      "580  The body is intact       2562.0   male  2019-01-05  Unknown_Cause\n",
      "581  The body is intact       2562.0   male  2019-01-03  Unknown_Cause\n",
      "\n",
      "[575 rows x 5 columns]\n"
     ]
    }
   ],
   "source": [
    "\n",
    "df_final[\"autopsyDate\"] = df_final[\"autopsyDate\"]\\\n",
    "    .str.replace(\"มกราคม\", \"01\", regex=False)\\\n",
    "    .str.replace(\"กุมภาพันธ์\", \"02\", regex=False)\\\n",
    "    .str.replace(\"มีนาคม\", \"03\", regex=False)\\\n",
    "    .str.replace(\"เมษายน\", \"04\", regex=False)\\\n",
    "    .str.replace(\"พฤษภาคม\", \"05\", regex=False)\\\n",
    "    .str.replace(\"มิถุนายน\", \"06\", regex=False)\\\n",
    "    .str.replace(\"กรกฎาคม\", \"07\", regex=False)\\\n",
    "    .str.replace(\"สิงหาคม\", \"08\", regex=False)\\\n",
    "    .str.replace(\"กันยายน\", \"09\", regex=False)\\\n",
    "    .str.replace(\"ตุลาคม\", \"10\", regex=False)\\\n",
    "    .str.replace(\"พฤศจิกายน\", \"11\", regex=False)\\\n",
    "    .str.replace(\"ธันวาคม\", \"12\", regex=False)\n",
    "\n",
    "\n",
    "df_final[\"autopsyDate\"] = df_final[\"autopsyDate\"].str.replace(r'(\\d{4})', lambda x: str(int(x.group(0)) - 543), regex=True)\n",
    "\n",
    "df_final[\"autopsyDate\"] = pd.to_datetime(df_final[\"autopsyDate\"], format=\"%d %m %Y\").dt.date\n",
    "\n",
    "print(df_final)\n",
    "\n",
    "\n",
    "\n",
    "print(df_final)\n"
   ]
  },
  {
   "cell_type": "code",
   "execution_count": 20,
   "id": "1639a153",
   "metadata": {
    "execution": {
     "iopub.execute_input": "2025-02-16T11:28:41.653573Z",
     "iopub.status.busy": "2025-02-16T11:28:41.653215Z",
     "iopub.status.idle": "2025-02-16T11:28:41.658176Z",
     "shell.execute_reply": "2025-02-16T11:28:41.657263Z"
    },
    "papermill": {
     "duration": 0.014439,
     "end_time": "2025-02-16T11:28:41.659606",
     "exception": false,
     "start_time": "2025-02-16T11:28:41.645167",
     "status": "completed"
    },
    "tags": []
   },
   "outputs": [],
   "source": [
    "df_final['autopsyYear'] = df_final['autopsyYear'].astype(int) - 543\n"
   ]
  },
  {
   "cell_type": "code",
   "execution_count": 21,
   "id": "6d83eed0",
   "metadata": {
    "execution": {
     "iopub.execute_input": "2025-02-16T11:28:41.674937Z",
     "iopub.status.busy": "2025-02-16T11:28:41.674593Z",
     "iopub.status.idle": "2025-02-16T11:28:41.710065Z",
     "shell.execute_reply": "2025-02-16T11:28:41.708318Z"
    },
    "papermill": {
     "duration": 0.045324,
     "end_time": "2025-02-16T11:28:41.712042",
     "exception": false,
     "start_time": "2025-02-16T11:28:41.666718",
     "status": "completed"
    },
    "tags": []
   },
   "outputs": [],
   "source": [
    "import pandas as pd\n",
    "import sqlite3\n",
    "\n",
    "conn = sqlite3.connect('panthep_test.db')\n",
    "df_final.to_sql('people', conn, if_exists='replace', index=False)\n",
    "conn.close()"
   ]
  },
  {
   "cell_type": "code",
   "execution_count": 22,
   "id": "09170ee2",
   "metadata": {
    "execution": {
     "iopub.execute_input": "2025-02-16T11:28:41.727760Z",
     "iopub.status.busy": "2025-02-16T11:28:41.727422Z",
     "iopub.status.idle": "2025-02-16T11:28:42.361914Z",
     "shell.execute_reply": "2025-02-16T11:28:42.360905Z"
    },
    "papermill": {
     "duration": 0.644341,
     "end_time": "2025-02-16T11:28:42.363759",
     "exception": false,
     "start_time": "2025-02-16T11:28:41.719418",
     "status": "completed"
    },
    "tags": []
   },
   "outputs": [],
   "source": [
    "df_final.to_excel('panthep_test.xlsx', index=False)"
   ]
  },
  {
   "cell_type": "code",
   "execution_count": 23,
   "id": "24debf56",
   "metadata": {
    "execution": {
     "iopub.execute_input": "2025-02-16T11:28:42.379872Z",
     "iopub.status.busy": "2025-02-16T11:28:42.379337Z",
     "iopub.status.idle": "2025-02-16T11:28:42.383895Z",
     "shell.execute_reply": "2025-02-16T11:28:42.382757Z"
    },
    "papermill": {
     "duration": 0.014593,
     "end_time": "2025-02-16T11:28:42.385689",
     "exception": false,
     "start_time": "2025-02-16T11:28:42.371096",
     "status": "completed"
    },
    "tags": []
   },
   "outputs": [],
   "source": [
    "#import os\n",
    "\n",
    "\n",
    "#file_path = '/kaggle/working/panthep_test.db'\n",
    "\n",
    "\n",
    "#if os.path.exists(file_path):\n",
    "    #os.remove(file_path)\n",
    "    #print(f\"ไฟล์ {file_path} ถูกลบเรียบร้อยแล้ว\")\n",
    "#else:\n",
    "    #print(f\"ไฟล์ {file_path} ไม่พบในระบบ\")\n"
   ]
  },
  {
   "cell_type": "code",
   "execution_count": 24,
   "id": "d5a6c40a",
   "metadata": {
    "execution": {
     "iopub.execute_input": "2025-02-16T11:28:42.401635Z",
     "iopub.status.busy": "2025-02-16T11:28:42.401253Z",
     "iopub.status.idle": "2025-02-16T11:28:42.564948Z",
     "shell.execute_reply": "2025-02-16T11:28:42.563690Z"
    },
    "papermill": {
     "duration": 0.173634,
     "end_time": "2025-02-16T11:28:42.566797",
     "exception": false,
     "start_time": "2025-02-16T11:28:42.393163",
     "status": "completed"
    },
    "tags": []
   },
   "outputs": [
    {
     "data": {
      "text/html": [
       "<div>\n",
       "<style scoped>\n",
       "    .dataframe tbody tr th:only-of-type {\n",
       "        vertical-align: middle;\n",
       "    }\n",
       "\n",
       "    .dataframe tbody tr th {\n",
       "        vertical-align: top;\n",
       "    }\n",
       "\n",
       "    .dataframe thead th {\n",
       "        text-align: right;\n",
       "    }\n",
       "</style>\n",
       "<table border=\"1\" class=\"dataframe\">\n",
       "  <thead>\n",
       "    <tr style=\"text-align: right;\">\n",
       "      <th></th>\n",
       "      <th>condition</th>\n",
       "      <th>autopsyYear</th>\n",
       "      <th>gender</th>\n",
       "      <th>autopsyDate</th>\n",
       "      <th>causeofDeath</th>\n",
       "    </tr>\n",
       "  </thead>\n",
       "  <tbody>\n",
       "    <tr>\n",
       "      <th>0</th>\n",
       "      <td>The body is intact</td>\n",
       "      <td>2025</td>\n",
       "      <td>male</td>\n",
       "      <td>2025-02-01</td>\n",
       "      <td>Unknown_Cause</td>\n",
       "    </tr>\n",
       "    <tr>\n",
       "      <th>1</th>\n",
       "      <td>The body is intact</td>\n",
       "      <td>2025</td>\n",
       "      <td>male</td>\n",
       "      <td>2025-02-01</td>\n",
       "      <td>Unknown_Cause</td>\n",
       "    </tr>\n",
       "    <tr>\n",
       "      <th>2</th>\n",
       "      <td>The body is intact</td>\n",
       "      <td>2025</td>\n",
       "      <td>male</td>\n",
       "      <td>2025-01-24</td>\n",
       "      <td>Unknown_Cause</td>\n",
       "    </tr>\n",
       "    <tr>\n",
       "      <th>3</th>\n",
       "      <td>The body is intact</td>\n",
       "      <td>2025</td>\n",
       "      <td>male</td>\n",
       "      <td>2025-01-24</td>\n",
       "      <td>Unknown_Cause</td>\n",
       "    </tr>\n",
       "    <tr>\n",
       "      <th>4</th>\n",
       "      <td>The body is intact</td>\n",
       "      <td>2025</td>\n",
       "      <td>male</td>\n",
       "      <td>2025-01-13</td>\n",
       "      <td>Unknown_Cause</td>\n",
       "    </tr>\n",
       "    <tr>\n",
       "      <th>...</th>\n",
       "      <td>...</td>\n",
       "      <td>...</td>\n",
       "      <td>...</td>\n",
       "      <td>...</td>\n",
       "      <td>...</td>\n",
       "    </tr>\n",
       "    <tr>\n",
       "      <th>570</th>\n",
       "      <td>The body is intact</td>\n",
       "      <td>2019</td>\n",
       "      <td>male</td>\n",
       "      <td>2019-01-12</td>\n",
       "      <td>Unknown_Cause</td>\n",
       "    </tr>\n",
       "    <tr>\n",
       "      <th>571</th>\n",
       "      <td>The body is intact</td>\n",
       "      <td>2019</td>\n",
       "      <td>male</td>\n",
       "      <td>2019-01-07</td>\n",
       "      <td>Unknown_Cause</td>\n",
       "    </tr>\n",
       "    <tr>\n",
       "      <th>572</th>\n",
       "      <td>The body is intact</td>\n",
       "      <td>2019</td>\n",
       "      <td>male</td>\n",
       "      <td>2019-01-07</td>\n",
       "      <td>Unknown_Cause</td>\n",
       "    </tr>\n",
       "    <tr>\n",
       "      <th>573</th>\n",
       "      <td>The body is intact</td>\n",
       "      <td>2019</td>\n",
       "      <td>male</td>\n",
       "      <td>2019-01-05</td>\n",
       "      <td>Unknown_Cause</td>\n",
       "    </tr>\n",
       "    <tr>\n",
       "      <th>574</th>\n",
       "      <td>The body is intact</td>\n",
       "      <td>2019</td>\n",
       "      <td>male</td>\n",
       "      <td>2019-01-03</td>\n",
       "      <td>Unknown_Cause</td>\n",
       "    </tr>\n",
       "  </tbody>\n",
       "</table>\n",
       "<p>575 rows × 5 columns</p>\n",
       "</div>"
      ],
      "text/plain": [
       "              condition  autopsyYear gender autopsyDate   causeofDeath\n",
       "0    The body is intact         2025   male  2025-02-01  Unknown_Cause\n",
       "1    The body is intact         2025   male  2025-02-01  Unknown_Cause\n",
       "2    The body is intact         2025   male  2025-01-24  Unknown_Cause\n",
       "3    The body is intact         2025   male  2025-01-24  Unknown_Cause\n",
       "4    The body is intact         2025   male  2025-01-13  Unknown_Cause\n",
       "..                  ...          ...    ...         ...            ...\n",
       "570  The body is intact         2019   male  2019-01-12  Unknown_Cause\n",
       "571  The body is intact         2019   male  2019-01-07  Unknown_Cause\n",
       "572  The body is intact         2019   male  2019-01-07  Unknown_Cause\n",
       "573  The body is intact         2019   male  2019-01-05  Unknown_Cause\n",
       "574  The body is intact         2019   male  2019-01-03  Unknown_Cause\n",
       "\n",
       "[575 rows x 5 columns]"
      ]
     },
     "execution_count": 24,
     "metadata": {},
     "output_type": "execute_result"
    }
   ],
   "source": [
    "df = pd.read_excel('/kaggle/working/panthep_test.xlsx',header=0)\n",
    "df"
   ]
  },
  {
   "cell_type": "code",
   "execution_count": 25,
   "id": "031460f8",
   "metadata": {
    "execution": {
     "iopub.execute_input": "2025-02-16T11:28:42.583352Z",
     "iopub.status.busy": "2025-02-16T11:28:42.582920Z",
     "iopub.status.idle": "2025-02-16T11:28:42.589371Z",
     "shell.execute_reply": "2025-02-16T11:28:42.588236Z"
    },
    "papermill": {
     "duration": 0.016417,
     "end_time": "2025-02-16T11:28:42.591115",
     "exception": false,
     "start_time": "2025-02-16T11:28:42.574698",
     "status": "completed"
    },
    "tags": []
   },
   "outputs": [
    {
     "data": {
      "text/plain": [
       "array(['Unknown_Cause', 'Other', 'Accident', 'Accident_Under_Treatment',\n",
       "       'Pulmonary_Tuberculosis', 'Presumed_Drowning', 'Cancer',\n",
       "       'Floating_in_Water', 'Hanging', 'Traffic_Accident', 'Drowning',\n",
       "       'Physical_Assault', 'Heart_Failure', 'Sepsis',\n",
       "       'Pneumonia_Infection', 'Assault_Stab_Wound',\n",
       "       'Unknown_Cause_(Assault)', 'Electrocution', 'Fall_from_Height'],\n",
       "      dtype=object)"
      ]
     },
     "execution_count": 25,
     "metadata": {},
     "output_type": "execute_result"
    }
   ],
   "source": [
    "df['causeofDeath'].unique()"
   ]
  },
  {
   "cell_type": "code",
   "execution_count": 26,
   "id": "a5033ae8",
   "metadata": {
    "execution": {
     "iopub.execute_input": "2025-02-16T11:28:42.607518Z",
     "iopub.status.busy": "2025-02-16T11:28:42.607139Z",
     "iopub.status.idle": "2025-02-16T11:28:42.619022Z",
     "shell.execute_reply": "2025-02-16T11:28:42.617806Z"
    },
    "papermill": {
     "duration": 0.021807,
     "end_time": "2025-02-16T11:28:42.620546",
     "exception": false,
     "start_time": "2025-02-16T11:28:42.598739",
     "status": "completed"
    },
    "tags": []
   },
   "outputs": [
    {
     "name": "stdout",
     "output_type": "stream",
     "text": [
      "              condition  autopsyYear gender autopsyDate   causeofDeath\n",
      "0    The body is intact         2025   male  2025-02-01  Unknown_Cause\n",
      "1    The body is intact         2025   male  2025-02-01  Unknown_Cause\n",
      "2    The body is intact         2025   male  2025-01-24  Unknown_Cause\n",
      "3    The body is intact         2025   male  2025-01-24  Unknown_Cause\n",
      "4    The body is intact         2025   male  2025-01-13  Unknown_Cause\n",
      "..                  ...          ...    ...         ...            ...\n",
      "570  The body is intact         2019   male  2019-01-12  Unknown_Cause\n",
      "571  The body is intact         2019   male  2019-01-07  Unknown_Cause\n",
      "572  The body is intact         2019   male  2019-01-07  Unknown_Cause\n",
      "573  The body is intact         2019   male  2019-01-05  Unknown_Cause\n",
      "574  The body is intact         2019   male  2019-01-03  Unknown_Cause\n",
      "\n",
      "[575 rows x 5 columns]\n"
     ]
    }
   ],
   "source": [
    "import sqlite3\n",
    "import pandas as pd\n",
    "\n",
    "# สร้างการเชื่อมต่อกับฐานข้อมูล SQLite\n",
    "conn = sqlite3.connect('/kaggle/working/panthep_test.db')\n",
    "\n",
    "# อ่านข้อมูลจากตารางในฐานข้อมูล (เช่น `table_name`) มาเป็น DataFrame\n",
    "df2 = pd.read_sql('SELECT * FROM people', conn)\n",
    "\n",
    "# ปิดการเชื่อมต่อ\n",
    "conn.close()\n",
    "\n",
    "# แสดงผล DataFrame\n",
    "print(df2)\n"
   ]
  },
  {
   "cell_type": "code",
   "execution_count": 27,
   "id": "eb8ed96d",
   "metadata": {
    "execution": {
     "iopub.execute_input": "2025-02-16T11:28:42.636910Z",
     "iopub.status.busy": "2025-02-16T11:28:42.636569Z",
     "iopub.status.idle": "2025-02-16T11:28:42.643040Z",
     "shell.execute_reply": "2025-02-16T11:28:42.641925Z"
    },
    "papermill": {
     "duration": 0.016454,
     "end_time": "2025-02-16T11:28:42.644616",
     "exception": false,
     "start_time": "2025-02-16T11:28:42.628162",
     "status": "completed"
    },
    "tags": []
   },
   "outputs": [
    {
     "data": {
      "text/plain": [
       "array(['Unknown_Cause', 'Other', 'Accident', 'Accident_Under_Treatment',\n",
       "       'Pulmonary_Tuberculosis', 'Presumed_Drowning', 'Cancer',\n",
       "       'Floating_in_Water', 'Hanging', 'Traffic_Accident', 'Drowning',\n",
       "       'Physical_Assault', 'Heart_Failure', 'Sepsis',\n",
       "       'Pneumonia_Infection', 'Assault_Stab_Wound',\n",
       "       'Unknown_Cause_(Assault)', 'Electrocution', 'Fall_from_Height'],\n",
       "      dtype=object)"
      ]
     },
     "execution_count": 27,
     "metadata": {},
     "output_type": "execute_result"
    }
   ],
   "source": [
    "df2['causeofDeath'].unique()"
   ]
  },
  {
   "cell_type": "code",
   "execution_count": 28,
   "id": "138b74d0",
   "metadata": {
    "execution": {
     "iopub.execute_input": "2025-02-16T11:28:42.661575Z",
     "iopub.status.busy": "2025-02-16T11:28:42.661151Z",
     "iopub.status.idle": "2025-02-16T11:28:42.668764Z",
     "shell.execute_reply": "2025-02-16T11:28:42.667718Z"
    },
    "papermill": {
     "duration": 0.017994,
     "end_time": "2025-02-16T11:28:42.670485",
     "exception": false,
     "start_time": "2025-02-16T11:28:42.652491",
     "status": "completed"
    },
    "tags": []
   },
   "outputs": [
    {
     "data": {
      "text/plain": [
       "condition       0\n",
       "autopsyYear     0\n",
       "gender          0\n",
       "autopsyDate     0\n",
       "causeofDeath    0\n",
       "dtype: int64"
      ]
     },
     "execution_count": 28,
     "metadata": {},
     "output_type": "execute_result"
    }
   ],
   "source": [
    "df2.isnull().sum()"
   ]
  },
  {
   "cell_type": "code",
   "execution_count": 29,
   "id": "b7f4c3e9",
   "metadata": {
    "execution": {
     "iopub.execute_input": "2025-02-16T11:28:42.687069Z",
     "iopub.status.busy": "2025-02-16T11:28:42.686680Z",
     "iopub.status.idle": "2025-02-16T11:28:42.698189Z",
     "shell.execute_reply": "2025-02-16T11:28:42.697104Z"
    },
    "papermill": {
     "duration": 0.021424,
     "end_time": "2025-02-16T11:28:42.699643",
     "exception": false,
     "start_time": "2025-02-16T11:28:42.678219",
     "status": "completed"
    },
    "tags": []
   },
   "outputs": [
    {
     "data": {
      "text/html": [
       "<div>\n",
       "<style scoped>\n",
       "    .dataframe tbody tr th:only-of-type {\n",
       "        vertical-align: middle;\n",
       "    }\n",
       "\n",
       "    .dataframe tbody tr th {\n",
       "        vertical-align: top;\n",
       "    }\n",
       "\n",
       "    .dataframe thead th {\n",
       "        text-align: right;\n",
       "    }\n",
       "</style>\n",
       "<table border=\"1\" class=\"dataframe\">\n",
       "  <thead>\n",
       "    <tr style=\"text-align: right;\">\n",
       "      <th></th>\n",
       "      <th>causeofDeath</th>\n",
       "      <th>count</th>\n",
       "    </tr>\n",
       "  </thead>\n",
       "  <tbody>\n",
       "    <tr>\n",
       "      <th>0</th>\n",
       "      <td>Accident</td>\n",
       "      <td>4</td>\n",
       "    </tr>\n",
       "    <tr>\n",
       "      <th>1</th>\n",
       "      <td>Accident_Under_Treatment</td>\n",
       "      <td>2</td>\n",
       "    </tr>\n",
       "    <tr>\n",
       "      <th>2</th>\n",
       "      <td>Assault_Stab_Wound</td>\n",
       "      <td>1</td>\n",
       "    </tr>\n",
       "    <tr>\n",
       "      <th>3</th>\n",
       "      <td>Cancer</td>\n",
       "      <td>1</td>\n",
       "    </tr>\n",
       "    <tr>\n",
       "      <th>4</th>\n",
       "      <td>Drowning</td>\n",
       "      <td>3</td>\n",
       "    </tr>\n",
       "    <tr>\n",
       "      <th>5</th>\n",
       "      <td>Electrocution</td>\n",
       "      <td>1</td>\n",
       "    </tr>\n",
       "    <tr>\n",
       "      <th>6</th>\n",
       "      <td>Fall_from_Height</td>\n",
       "      <td>1</td>\n",
       "    </tr>\n",
       "    <tr>\n",
       "      <th>7</th>\n",
       "      <td>Floating_in_Water</td>\n",
       "      <td>5</td>\n",
       "    </tr>\n",
       "    <tr>\n",
       "      <th>8</th>\n",
       "      <td>Hanging</td>\n",
       "      <td>6</td>\n",
       "    </tr>\n",
       "    <tr>\n",
       "      <th>9</th>\n",
       "      <td>Heart_Failure</td>\n",
       "      <td>1</td>\n",
       "    </tr>\n",
       "    <tr>\n",
       "      <th>10</th>\n",
       "      <td>Other</td>\n",
       "      <td>22</td>\n",
       "    </tr>\n",
       "    <tr>\n",
       "      <th>11</th>\n",
       "      <td>Physical_Assault</td>\n",
       "      <td>1</td>\n",
       "    </tr>\n",
       "    <tr>\n",
       "      <th>12</th>\n",
       "      <td>Pneumonia_Infection</td>\n",
       "      <td>1</td>\n",
       "    </tr>\n",
       "    <tr>\n",
       "      <th>13</th>\n",
       "      <td>Presumed_Drowning</td>\n",
       "      <td>1</td>\n",
       "    </tr>\n",
       "    <tr>\n",
       "      <th>14</th>\n",
       "      <td>Pulmonary_Tuberculosis</td>\n",
       "      <td>1</td>\n",
       "    </tr>\n",
       "    <tr>\n",
       "      <th>15</th>\n",
       "      <td>Sepsis</td>\n",
       "      <td>1</td>\n",
       "    </tr>\n",
       "    <tr>\n",
       "      <th>16</th>\n",
       "      <td>Traffic_Accident</td>\n",
       "      <td>1</td>\n",
       "    </tr>\n",
       "    <tr>\n",
       "      <th>17</th>\n",
       "      <td>Unknown_Cause</td>\n",
       "      <td>521</td>\n",
       "    </tr>\n",
       "    <tr>\n",
       "      <th>18</th>\n",
       "      <td>Unknown_Cause_(Assault)</td>\n",
       "      <td>1</td>\n",
       "    </tr>\n",
       "  </tbody>\n",
       "</table>\n",
       "</div>"
      ],
      "text/plain": [
       "                causeofDeath  count\n",
       "0                   Accident      4\n",
       "1   Accident_Under_Treatment      2\n",
       "2         Assault_Stab_Wound      1\n",
       "3                     Cancer      1\n",
       "4                   Drowning      3\n",
       "5              Electrocution      1\n",
       "6           Fall_from_Height      1\n",
       "7          Floating_in_Water      5\n",
       "8                    Hanging      6\n",
       "9              Heart_Failure      1\n",
       "10                     Other     22\n",
       "11          Physical_Assault      1\n",
       "12       Pneumonia_Infection      1\n",
       "13         Presumed_Drowning      1\n",
       "14    Pulmonary_Tuberculosis      1\n",
       "15                    Sepsis      1\n",
       "16          Traffic_Accident      1\n",
       "17             Unknown_Cause    521\n",
       "18   Unknown_Cause_(Assault)      1"
      ]
     },
     "execution_count": 29,
     "metadata": {},
     "output_type": "execute_result"
    }
   ],
   "source": [
    "df2.groupby('causeofDeath').size().reset_index(name='count')\n"
   ]
  },
  {
   "cell_type": "code",
   "execution_count": null,
   "id": "7b4f7389",
   "metadata": {
    "papermill": {
     "duration": 0.009188,
     "end_time": "2025-02-16T11:28:42.716761",
     "exception": false,
     "start_time": "2025-02-16T11:28:42.707573",
     "status": "completed"
    },
    "tags": []
   },
   "outputs": [],
   "source": []
  }
 ],
 "metadata": {
  "kaggle": {
   "accelerator": "none",
   "dataSources": [],
   "dockerImageVersionId": 30886,
   "isGpuEnabled": false,
   "isInternetEnabled": true,
   "language": "python",
   "sourceType": "notebook"
  },
  "kernelspec": {
   "display_name": "Python 3",
   "language": "python",
   "name": "python3"
  },
  "language_info": {
   "codemirror_mode": {
    "name": "ipython",
    "version": 3
   },
   "file_extension": ".py",
   "mimetype": "text/x-python",
   "name": "python",
   "nbconvert_exporter": "python",
   "pygments_lexer": "ipython3",
   "version": "3.10.12"
  },
  "papermill": {
   "default_parameters": {},
   "duration": 7.062359,
   "end_time": "2025-02-16T11:28:43.345060",
   "environment_variables": {},
   "exception": null,
   "input_path": "__notebook__.ipynb",
   "output_path": "__notebook__.ipynb",
   "parameters": {},
   "start_time": "2025-02-16T11:28:36.282701",
   "version": "2.6.0"
  }
 },
 "nbformat": 4,
 "nbformat_minor": 5
}
