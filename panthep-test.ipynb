{
 "cells": [
  {
   "cell_type": "code",
   "execution_count": 1,
   "id": "fef11f3e",
   "metadata": {
    "_cell_guid": "b1076dfc-b9ad-4769-8c92-a6c4dae69d19",
    "_uuid": "8f2839f25d086af736a60e9eeb907d3b93b6e0e5",
    "execution": {
     "iopub.execute_input": "2025-02-17T15:37:57.914071Z",
     "iopub.status.busy": "2025-02-17T15:37:57.913565Z",
     "iopub.status.idle": "2025-02-17T15:37:58.855027Z",
     "shell.execute_reply": "2025-02-17T15:37:58.854068Z"
    },
    "papermill": {
     "duration": 0.951413,
     "end_time": "2025-02-17T15:37:58.856925",
     "exception": false,
     "start_time": "2025-02-17T15:37:57.905512",
     "status": "completed"
    },
    "tags": []
   },
   "outputs": [],
   "source": [
    "# This Python 3 environment comes with many helpful analytics libraries installed\n",
    "# It is defined by the kaggle/python Docker image: https://github.com/kaggle/docker-python\n",
    "# For example, here's several helpful packages to load\n",
    "\n",
    "import numpy as np # linear algebra\n",
    "import pandas as pd # data processing, CSV file I/O (e.g. pd.read_csv)\n",
    "\n",
    "# Input data files are available in the read-only \"../input/\" directory\n",
    "# For example, running this (by clicking run or pressing Shift+Enter) will list all files under the input directory\n",
    "\n",
    "import os\n",
    "for dirname, _, filenames in os.walk('/kaggle/input'):\n",
    "    for filename in filenames:\n",
    "        print(os.path.join(dirname, filename))\n",
    "\n",
    "# You can write up to 20GB to the current directory (/kaggle/working/) that gets preserved as output when you create a version using \"Save & Run All\" \n",
    "# You can also write temporary files to /kaggle/temp/, but they won't be saved outside of the current session"
   ]
  },
  {
   "cell_type": "code",
   "execution_count": 2,
   "id": "eca9e3fa",
   "metadata": {
    "execution": {
     "iopub.execute_input": "2025-02-17T15:37:58.870962Z",
     "iopub.status.busy": "2025-02-17T15:37:58.870451Z",
     "iopub.status.idle": "2025-02-17T15:37:58.875006Z",
     "shell.execute_reply": "2025-02-17T15:37:58.873944Z"
    },
    "papermill": {
     "duration": 0.013405,
     "end_time": "2025-02-17T15:37:58.876812",
     "exception": false,
     "start_time": "2025-02-17T15:37:58.863407",
     "status": "completed"
    },
    "tags": []
   },
   "outputs": [],
   "source": [
    "def warn (*args, **kwargs):\n",
    "    pass\n",
    "import warnings\n",
    "warnings.warn = warn"
   ]
  },
  {
   "cell_type": "code",
   "execution_count": 3,
   "id": "c25a0632",
   "metadata": {
    "execution": {
     "iopub.execute_input": "2025-02-17T15:37:58.890650Z",
     "iopub.status.busy": "2025-02-17T15:37:58.890303Z",
     "iopub.status.idle": "2025-02-17T15:38:00.305382Z",
     "shell.execute_reply": "2025-02-17T15:38:00.303638Z"
    },
    "papermill": {
     "duration": 1.42452,
     "end_time": "2025-02-17T15:38:00.307586",
     "exception": false,
     "start_time": "2025-02-17T15:37:58.883066",
     "status": "completed"
    },
    "tags": []
   },
   "outputs": [
    {
     "name": "stdout",
     "output_type": "stream",
     "text": [
      "         condition  autopsyYear gender         autopsyDate   causeofDeath  \\\n",
      "0  ศพมีสภาพสมบูรณ์       2568.0    ชาย  01 กุมภาพันธ์ 2568  ไม่ทราบสาเหตุ   \n",
      "1  ศพมีสภาพสมบูรณ์       2568.0    ชาย  01 กุมภาพันธ์ 2568  ไม่ทราบสาเหตุ   \n",
      "2  ศพมีสภาพสมบูรณ์       2568.0    ชาย      24 มกราคม 2568  ไม่ทราบสาเหตุ   \n",
      "3  ศพมีสภาพสมบูรณ์       2568.0    ชาย      24 มกราคม 2568  ไม่ทราบสาเหตุ   \n",
      "4  ศพมีสภาพสมบูรณ์       2568.0    ชาย      13 มกราคม 2568  ไม่ทราบสาเหตุ   \n",
      "\n",
      "  foreign  \n",
      "0    None  \n",
      "1    None  \n",
      "2    None  \n",
      "3    None  \n",
      "4    None  \n"
     ]
    }
   ],
   "source": [
    "import pandas as pd\n",
    "import requests\n",
    "\n",
    "try:\n",
    "   \n",
    "    response = requests.get('https://api.thaimissing.go.th/api/v1/cir-Datacatalog/DataNorelativePerson')\n",
    "    response.raise_for_status() \n",
    "\n",
    "\n",
    "    data = response.json()\n",
    "    df = pd.DataFrame(data)  \n",
    "\n",
    "    # แสดงข้อมูล 5 แถวแรก\n",
    "    print(df.head())\n",
    "\n",
    "except requests.exceptions.RequestException as e:\n",
    "    print(f\"เกิดข้อผิดพลาด: {e}\")\n"
   ]
  },
  {
   "cell_type": "code",
   "execution_count": 4,
   "id": "58c3c16d",
   "metadata": {
    "execution": {
     "iopub.execute_input": "2025-02-17T15:38:00.322369Z",
     "iopub.status.busy": "2025-02-17T15:38:00.322002Z",
     "iopub.status.idle": "2025-02-17T15:38:00.349392Z",
     "shell.execute_reply": "2025-02-17T15:38:00.347968Z"
    },
    "papermill": {
     "duration": 0.037385,
     "end_time": "2025-02-17T15:38:00.351659",
     "exception": false,
     "start_time": "2025-02-17T15:38:00.314274",
     "status": "completed"
    },
    "tags": []
   },
   "outputs": [
    {
     "name": "stdout",
     "output_type": "stream",
     "text": [
      "<class 'pandas.core.frame.DataFrame'>\n",
      "RangeIndex: 583 entries, 0 to 582\n",
      "Data columns (total 6 columns):\n",
      " #   Column        Non-Null Count  Dtype  \n",
      "---  ------        --------------  -----  \n",
      " 0   condition     583 non-null    object \n",
      " 1   autopsyYear   582 non-null    float64\n",
      " 2   gender        583 non-null    object \n",
      " 3   autopsyDate   583 non-null    object \n",
      " 4   causeofDeath  582 non-null    object \n",
      " 5   foreign       43 non-null     object \n",
      "dtypes: float64(1), object(5)\n",
      "memory usage: 27.5+ KB\n"
     ]
    }
   ],
   "source": [
    "df.info()"
   ]
  },
  {
   "cell_type": "code",
   "execution_count": 5,
   "id": "970970f2",
   "metadata": {
    "execution": {
     "iopub.execute_input": "2025-02-17T15:38:00.366803Z",
     "iopub.status.busy": "2025-02-17T15:38:00.366387Z",
     "iopub.status.idle": "2025-02-17T15:38:00.375230Z",
     "shell.execute_reply": "2025-02-17T15:38:00.374011Z"
    },
    "papermill": {
     "duration": 0.018892,
     "end_time": "2025-02-17T15:38:00.377419",
     "exception": false,
     "start_time": "2025-02-17T15:38:00.358527",
     "status": "completed"
    },
    "tags": []
   },
   "outputs": [
    {
     "data": {
      "text/plain": [
       "condition         0\n",
       "autopsyYear       1\n",
       "gender            0\n",
       "autopsyDate       0\n",
       "causeofDeath      1\n",
       "foreign         540\n",
       "dtype: int64"
      ]
     },
     "execution_count": 5,
     "metadata": {},
     "output_type": "execute_result"
    }
   ],
   "source": [
    "df.isnull().sum()"
   ]
  },
  {
   "cell_type": "code",
   "execution_count": 6,
   "id": "46f26a94",
   "metadata": {
    "execution": {
     "iopub.execute_input": "2025-02-17T15:38:00.393112Z",
     "iopub.status.busy": "2025-02-17T15:38:00.392696Z",
     "iopub.status.idle": "2025-02-17T15:38:00.401802Z",
     "shell.execute_reply": "2025-02-17T15:38:00.400414Z"
    },
    "papermill": {
     "duration": 0.018888,
     "end_time": "2025-02-17T15:38:00.403652",
     "exception": false,
     "start_time": "2025-02-17T15:38:00.384764",
     "status": "completed"
    },
    "tags": []
   },
   "outputs": [
    {
     "data": {
      "text/plain": [
       "condition       0.000000\n",
       "autopsyYear     0.001715\n",
       "gender          0.000000\n",
       "autopsyDate     0.000000\n",
       "causeofDeath    0.001715\n",
       "foreign         0.926244\n",
       "dtype: float64"
      ]
     },
     "execution_count": 6,
     "metadata": {},
     "output_type": "execute_result"
    }
   ],
   "source": [
    "df.isnull().mean()"
   ]
  },
  {
   "cell_type": "code",
   "execution_count": 7,
   "id": "a2715d98",
   "metadata": {
    "execution": {
     "iopub.execute_input": "2025-02-17T15:38:00.419024Z",
     "iopub.status.busy": "2025-02-17T15:38:00.418609Z",
     "iopub.status.idle": "2025-02-17T15:38:00.425750Z",
     "shell.execute_reply": "2025-02-17T15:38:00.424577Z"
    },
    "papermill": {
     "duration": 0.01698,
     "end_time": "2025-02-17T15:38:00.427777",
     "exception": false,
     "start_time": "2025-02-17T15:38:00.410797",
     "status": "completed"
    },
    "tags": []
   },
   "outputs": [
    {
     "data": {
      "text/plain": [
       "array(['ไม่ทราบสาเหตุ', None, 'อื่นๆ', 'อุบัติเหตุ', 'ปอดอักเสบติดเชื้อ',\n",
       "       'อุบัติเหตุรักษาตัว', 'วัณโรคปอด', 'สันนิษฐานขาดอากาศจากการจมน้ำ',\n",
       "       'โรคมะเร็ง', 'ลอยน้ำ', 'แขวนคอ', 'อุบัติเหตุจราจร', 'จมน้ำ',\n",
       "       'ถูกทำร้ายร่างกาย', 'ระบบหัวใจล้มเหลว', 'ติดเชื้อในกระแสเลือด',\n",
       "       'ผูกคอ', 'ถูกทำร้ายด้วยอาวุธมีด', 'ไม่ทราบสาเหตุ ',\n",
       "       'ไม่ทราบสาเหตุ (ถูกทำร้ายร่างกาย)', 'ไฟฟ้าช็อต', 'ตกที่สูง'],\n",
       "      dtype=object)"
      ]
     },
     "execution_count": 7,
     "metadata": {},
     "output_type": "execute_result"
    }
   ],
   "source": [
    "df['causeofDeath'].unique()"
   ]
  },
  {
   "cell_type": "code",
   "execution_count": 8,
   "id": "5a537529",
   "metadata": {
    "execution": {
     "iopub.execute_input": "2025-02-17T15:38:00.443344Z",
     "iopub.status.busy": "2025-02-17T15:38:00.442975Z",
     "iopub.status.idle": "2025-02-17T15:38:00.449216Z",
     "shell.execute_reply": "2025-02-17T15:38:00.448083Z"
    },
    "papermill": {
     "duration": 0.01614,
     "end_time": "2025-02-17T15:38:00.451049",
     "exception": false,
     "start_time": "2025-02-17T15:38:00.434909",
     "status": "completed"
    },
    "tags": []
   },
   "outputs": [
    {
     "data": {
      "text/plain": [
       "(583, 6)"
      ]
     },
     "execution_count": 8,
     "metadata": {},
     "output_type": "execute_result"
    }
   ],
   "source": [
    "df.shape"
   ]
  },
  {
   "cell_type": "code",
   "execution_count": 9,
   "id": "76702e68",
   "metadata": {
    "execution": {
     "iopub.execute_input": "2025-02-17T15:38:00.467044Z",
     "iopub.status.busy": "2025-02-17T15:38:00.466620Z",
     "iopub.status.idle": "2025-02-17T15:38:00.482340Z",
     "shell.execute_reply": "2025-02-17T15:38:00.480984Z"
    },
    "papermill": {
     "duration": 0.026191,
     "end_time": "2025-02-17T15:38:00.484636",
     "exception": false,
     "start_time": "2025-02-17T15:38:00.458445",
     "status": "completed"
    },
    "tags": []
   },
   "outputs": [],
   "source": [
    "column_mapping = {\n",
    "    'ไม่ทราบสาเหตุ': 'Unknown_Cause',\n",
    "    'อื่นๆ': 'Other',\n",
    "    'อุบัติเหตุ': 'Accident',\n",
    "    'ปอดอักเสบติดเชื้อ': 'Pneumonia_Infection',\n",
    "    'อุบัติเหตุรักษาตัว': 'Accident_Under_Treatment',\n",
    "    'วัณโรคปอด': 'Pulmonary_Tuberculosis',\n",
    "    'สันนิษฐานขาดอากาศจากการจมน้ำ': 'Presumed_Drowning',\n",
    "    'โรคมะเร็ง': 'Cancer',\n",
    "    'ลอยน้ำ': 'Floating_in_Water',\n",
    "    'แขวนคอ': 'Hanging',\n",
    "    'อุบัติเหตุจราจร': 'Traffic_Accident',\n",
    "    'จมน้ำ': 'Drowning',\n",
    "    'ถูกทำร้ายร่างกาย': 'Physical_Assault',\n",
    "    'ระบบหัวใจล้มเหลว': 'Heart_Failure',\n",
    "    'ติดเชื้อในกระแสเลือด': 'Sepsis',\n",
    "    'ผูกคอ': 'Hanging',\n",
    "    'ถูกทำร้ายด้วยอาวุธมีด': 'Assault_Stab_Wound',\n",
    "    'ไม่ทราบสาเหตุ ': 'Unknown_Cause',\n",
    "    'ไม่ทราบสาเหตุ (ถูกทำร้ายร่างกาย)': 'Unknown_Cause_(Assault)',\n",
    "    'ไฟฟ้าช็อต': 'Electrocution',\n",
    "    'ตกที่สูง': 'Fall_from_Height'\n",
    "}\n",
    "\n",
    "df_cleaned = df.replace(column_mapping)"
   ]
  },
  {
   "cell_type": "code",
   "execution_count": 10,
   "id": "9e882a46",
   "metadata": {
    "execution": {
     "iopub.execute_input": "2025-02-17T15:38:00.502075Z",
     "iopub.status.busy": "2025-02-17T15:38:00.501615Z",
     "iopub.status.idle": "2025-02-17T15:38:00.510791Z",
     "shell.execute_reply": "2025-02-17T15:38:00.509601Z"
    },
    "papermill": {
     "duration": 0.020137,
     "end_time": "2025-02-17T15:38:00.512686",
     "exception": false,
     "start_time": "2025-02-17T15:38:00.492549",
     "status": "completed"
    },
    "tags": []
   },
   "outputs": [
    {
     "data": {
      "text/plain": [
       "condition         0\n",
       "autopsyYear       1\n",
       "gender            0\n",
       "autopsyDate       0\n",
       "causeofDeath      1\n",
       "foreign         540\n",
       "dtype: int64"
      ]
     },
     "execution_count": 10,
     "metadata": {},
     "output_type": "execute_result"
    }
   ],
   "source": [
    "df_cleaned.isnull().sum()"
   ]
  },
  {
   "cell_type": "code",
   "execution_count": 11,
   "id": "6675e0cd",
   "metadata": {
    "execution": {
     "iopub.execute_input": "2025-02-17T15:38:00.527943Z",
     "iopub.status.busy": "2025-02-17T15:38:00.527446Z",
     "iopub.status.idle": "2025-02-17T15:38:00.537849Z",
     "shell.execute_reply": "2025-02-17T15:38:00.536600Z"
    },
    "papermill": {
     "duration": 0.020527,
     "end_time": "2025-02-17T15:38:00.540045",
     "exception": false,
     "start_time": "2025-02-17T15:38:00.519518",
     "status": "completed"
    },
    "tags": []
   },
   "outputs": [],
   "source": [
    "df_cleaned = df_cleaned.drop(columns=['foreign'], axis=1)\n"
   ]
  },
  {
   "cell_type": "code",
   "execution_count": 12,
   "id": "022993a0",
   "metadata": {
    "execution": {
     "iopub.execute_input": "2025-02-17T15:38:00.556402Z",
     "iopub.status.busy": "2025-02-17T15:38:00.556005Z",
     "iopub.status.idle": "2025-02-17T15:38:00.563999Z",
     "shell.execute_reply": "2025-02-17T15:38:00.562606Z"
    },
    "papermill": {
     "duration": 0.018559,
     "end_time": "2025-02-17T15:38:00.566248",
     "exception": false,
     "start_time": "2025-02-17T15:38:00.547689",
     "status": "completed"
    },
    "tags": []
   },
   "outputs": [],
   "source": [
    "df_cleaned = df_cleaned.dropna()"
   ]
  },
  {
   "cell_type": "code",
   "execution_count": 13,
   "id": "59a55367",
   "metadata": {
    "execution": {
     "iopub.execute_input": "2025-02-17T15:38:00.582610Z",
     "iopub.status.busy": "2025-02-17T15:38:00.582238Z",
     "iopub.status.idle": "2025-02-17T15:38:00.588550Z",
     "shell.execute_reply": "2025-02-17T15:38:00.587381Z"
    },
    "papermill": {
     "duration": 0.016461,
     "end_time": "2025-02-17T15:38:00.590439",
     "exception": false,
     "start_time": "2025-02-17T15:38:00.573978",
     "status": "completed"
    },
    "tags": []
   },
   "outputs": [],
   "source": [
    "df_final = df_cleaned[df_cleaned['condition'] != '-']\n"
   ]
  },
  {
   "cell_type": "code",
   "execution_count": 14,
   "id": "e55860c3",
   "metadata": {
    "execution": {
     "iopub.execute_input": "2025-02-17T15:38:00.606956Z",
     "iopub.status.busy": "2025-02-17T15:38:00.606546Z",
     "iopub.status.idle": "2025-02-17T15:38:00.632530Z",
     "shell.execute_reply": "2025-02-17T15:38:00.631097Z"
    },
    "papermill": {
     "duration": 0.036901,
     "end_time": "2025-02-17T15:38:00.634810",
     "exception": false,
     "start_time": "2025-02-17T15:38:00.597909",
     "status": "completed"
    },
    "tags": []
   },
   "outputs": [
    {
     "data": {
      "text/html": [
       "<div>\n",
       "<style scoped>\n",
       "    .dataframe tbody tr th:only-of-type {\n",
       "        vertical-align: middle;\n",
       "    }\n",
       "\n",
       "    .dataframe tbody tr th {\n",
       "        vertical-align: top;\n",
       "    }\n",
       "\n",
       "    .dataframe thead th {\n",
       "        text-align: right;\n",
       "    }\n",
       "</style>\n",
       "<table border=\"1\" class=\"dataframe\">\n",
       "  <thead>\n",
       "    <tr style=\"text-align: right;\">\n",
       "      <th></th>\n",
       "      <th>condition</th>\n",
       "      <th>autopsyYear</th>\n",
       "      <th>gender</th>\n",
       "      <th>autopsyDate</th>\n",
       "      <th>causeofDeath</th>\n",
       "    </tr>\n",
       "  </thead>\n",
       "  <tbody>\n",
       "    <tr>\n",
       "      <th>0</th>\n",
       "      <td>ศพมีสภาพสมบูรณ์</td>\n",
       "      <td>2568.0</td>\n",
       "      <td>ชาย</td>\n",
       "      <td>01 กุมภาพันธ์ 2568</td>\n",
       "      <td>Unknown_Cause</td>\n",
       "    </tr>\n",
       "    <tr>\n",
       "      <th>1</th>\n",
       "      <td>ศพมีสภาพสมบูรณ์</td>\n",
       "      <td>2568.0</td>\n",
       "      <td>ชาย</td>\n",
       "      <td>01 กุมภาพันธ์ 2568</td>\n",
       "      <td>Unknown_Cause</td>\n",
       "    </tr>\n",
       "    <tr>\n",
       "      <th>2</th>\n",
       "      <td>ศพมีสภาพสมบูรณ์</td>\n",
       "      <td>2568.0</td>\n",
       "      <td>ชาย</td>\n",
       "      <td>24 มกราคม 2568</td>\n",
       "      <td>Unknown_Cause</td>\n",
       "    </tr>\n",
       "    <tr>\n",
       "      <th>3</th>\n",
       "      <td>ศพมีสภาพสมบูรณ์</td>\n",
       "      <td>2568.0</td>\n",
       "      <td>ชาย</td>\n",
       "      <td>24 มกราคม 2568</td>\n",
       "      <td>Unknown_Cause</td>\n",
       "    </tr>\n",
       "    <tr>\n",
       "      <th>4</th>\n",
       "      <td>ศพมีสภาพสมบูรณ์</td>\n",
       "      <td>2568.0</td>\n",
       "      <td>ชาย</td>\n",
       "      <td>13 มกราคม 2568</td>\n",
       "      <td>Unknown_Cause</td>\n",
       "    </tr>\n",
       "    <tr>\n",
       "      <th>...</th>\n",
       "      <td>...</td>\n",
       "      <td>...</td>\n",
       "      <td>...</td>\n",
       "      <td>...</td>\n",
       "      <td>...</td>\n",
       "    </tr>\n",
       "    <tr>\n",
       "      <th>577</th>\n",
       "      <td>ศพมีสภาพสมบูรณ์</td>\n",
       "      <td>2562.0</td>\n",
       "      <td>ชาย</td>\n",
       "      <td>12 มกราคม 2562</td>\n",
       "      <td>Unknown_Cause</td>\n",
       "    </tr>\n",
       "    <tr>\n",
       "      <th>578</th>\n",
       "      <td>ศพมีสภาพสมบูรณ์</td>\n",
       "      <td>2562.0</td>\n",
       "      <td>ชาย</td>\n",
       "      <td>07 มกราคม 2562</td>\n",
       "      <td>Unknown_Cause</td>\n",
       "    </tr>\n",
       "    <tr>\n",
       "      <th>579</th>\n",
       "      <td>ศพมีสภาพสมบูรณ์</td>\n",
       "      <td>2562.0</td>\n",
       "      <td>ชาย</td>\n",
       "      <td>07 มกราคม 2562</td>\n",
       "      <td>Unknown_Cause</td>\n",
       "    </tr>\n",
       "    <tr>\n",
       "      <th>580</th>\n",
       "      <td>ศพมีสภาพสมบูรณ์</td>\n",
       "      <td>2562.0</td>\n",
       "      <td>ชาย</td>\n",
       "      <td>05 มกราคม 2562</td>\n",
       "      <td>Unknown_Cause</td>\n",
       "    </tr>\n",
       "    <tr>\n",
       "      <th>581</th>\n",
       "      <td>ศพมีสภาพสมบูรณ์</td>\n",
       "      <td>2562.0</td>\n",
       "      <td>ชาย</td>\n",
       "      <td>03 มกราคม 2562</td>\n",
       "      <td>Unknown_Cause</td>\n",
       "    </tr>\n",
       "  </tbody>\n",
       "</table>\n",
       "<p>575 rows × 5 columns</p>\n",
       "</div>"
      ],
      "text/plain": [
       "           condition  autopsyYear gender         autopsyDate   causeofDeath\n",
       "0    ศพมีสภาพสมบูรณ์       2568.0    ชาย  01 กุมภาพันธ์ 2568  Unknown_Cause\n",
       "1    ศพมีสภาพสมบูรณ์       2568.0    ชาย  01 กุมภาพันธ์ 2568  Unknown_Cause\n",
       "2    ศพมีสภาพสมบูรณ์       2568.0    ชาย      24 มกราคม 2568  Unknown_Cause\n",
       "3    ศพมีสภาพสมบูรณ์       2568.0    ชาย      24 มกราคม 2568  Unknown_Cause\n",
       "4    ศพมีสภาพสมบูรณ์       2568.0    ชาย      13 มกราคม 2568  Unknown_Cause\n",
       "..               ...          ...    ...                 ...            ...\n",
       "577  ศพมีสภาพสมบูรณ์       2562.0    ชาย      12 มกราคม 2562  Unknown_Cause\n",
       "578  ศพมีสภาพสมบูรณ์       2562.0    ชาย      07 มกราคม 2562  Unknown_Cause\n",
       "579  ศพมีสภาพสมบูรณ์       2562.0    ชาย      07 มกราคม 2562  Unknown_Cause\n",
       "580  ศพมีสภาพสมบูรณ์       2562.0    ชาย      05 มกราคม 2562  Unknown_Cause\n",
       "581  ศพมีสภาพสมบูรณ์       2562.0    ชาย      03 มกราคม 2562  Unknown_Cause\n",
       "\n",
       "[575 rows x 5 columns]"
      ]
     },
     "execution_count": 14,
     "metadata": {},
     "output_type": "execute_result"
    }
   ],
   "source": [
    "df_final"
   ]
  },
  {
   "cell_type": "code",
   "execution_count": 15,
   "id": "a9d213fa",
   "metadata": {
    "execution": {
     "iopub.execute_input": "2025-02-17T15:38:00.651560Z",
     "iopub.status.busy": "2025-02-17T15:38:00.651135Z",
     "iopub.status.idle": "2025-02-17T15:38:00.661904Z",
     "shell.execute_reply": "2025-02-17T15:38:00.660537Z"
    },
    "papermill": {
     "duration": 0.021868,
     "end_time": "2025-02-17T15:38:00.664366",
     "exception": false,
     "start_time": "2025-02-17T15:38:00.642498",
     "status": "completed"
    },
    "tags": []
   },
   "outputs": [
    {
     "name": "stdout",
     "output_type": "stream",
     "text": [
      "Column 'condition' has 3 unique values: ['ศพมีสภาพสมบูรณ์' 'ศพมีสภาพเน่า' 'ศพมีสภาพเป็นกระดูก'] ...\n",
      "Column 'autopsyYear' has 7 unique values: [2568. 2567. 2566. 2565. 2564. 2563. 2562.] ...\n",
      "Column 'gender' has 2 unique values: ['ชาย' 'หญิง'] ...\n",
      "Column 'autopsyDate' has 483 unique values: ['01 กุมภาพันธ์ 2568' '24 มกราคม 2568' '13 มกราคม 2568' '27 ธันวาคม 2567'\n",
      " '26 ธันวาคม 2567' '22 ธันวาคม 2567' '25 พฤศจิกายน 2567'\n",
      " '24 พฤศจิกายน 2567' '22 พฤศจิกายน 2567' '15 พฤศจิกายน 2567'] ...\n",
      "Column 'causeofDeath' has 19 unique values: ['Unknown_Cause' 'Other' 'Accident' 'Accident_Under_Treatment'\n",
      " 'Pulmonary_Tuberculosis' 'Presumed_Drowning' 'Cancer' 'Floating_in_Water'\n",
      " 'Hanging' 'Traffic_Accident'] ...\n"
     ]
    }
   ],
   "source": [
    "for col in df_final.columns:\n",
    "    unique_values = df_final[col].unique()\n",
    "    print(f\"Column '{col}' has {len(unique_values)} unique values: {unique_values[:10]} ...\")  # แสดงแค่ 10 ค่าแรก\n"
   ]
  },
  {
   "cell_type": "code",
   "execution_count": 16,
   "id": "1e82ca05",
   "metadata": {
    "execution": {
     "iopub.execute_input": "2025-02-17T15:38:00.681367Z",
     "iopub.status.busy": "2025-02-17T15:38:00.680947Z",
     "iopub.status.idle": "2025-02-17T15:38:00.688309Z",
     "shell.execute_reply": "2025-02-17T15:38:00.687034Z"
    },
    "papermill": {
     "duration": 0.017989,
     "end_time": "2025-02-17T15:38:00.690272",
     "exception": false,
     "start_time": "2025-02-17T15:38:00.672283",
     "status": "completed"
    },
    "tags": []
   },
   "outputs": [],
   "source": [
    "df_final['condition'] = df_final['condition'].replace({\n",
    "    'ศพมีสภาพสมบูรณ์': 'The body is intact',\n",
    "    'ศพมีสภาพเน่า': 'The body is decomposed',\n",
    "    'ศพมีสภาพเป็นกระดูก': 'The body is skeletal',\n",
    "  \n",
    "})\n",
    "\n"
   ]
  },
  {
   "cell_type": "code",
   "execution_count": 17,
   "id": "2715c280",
   "metadata": {
    "execution": {
     "iopub.execute_input": "2025-02-17T15:38:00.706483Z",
     "iopub.status.busy": "2025-02-17T15:38:00.706017Z",
     "iopub.status.idle": "2025-02-17T15:38:00.713622Z",
     "shell.execute_reply": "2025-02-17T15:38:00.712404Z"
    },
    "papermill": {
     "duration": 0.017952,
     "end_time": "2025-02-17T15:38:00.715482",
     "exception": false,
     "start_time": "2025-02-17T15:38:00.697530",
     "status": "completed"
    },
    "tags": []
   },
   "outputs": [],
   "source": [
    "df_final['gender'] =  df_final['gender'].replace('ชาย','male')\n",
    "df_final['gender'] =  df_final['gender'].replace('หญิง','female')"
   ]
  },
  {
   "cell_type": "code",
   "execution_count": 18,
   "id": "615251b2",
   "metadata": {
    "execution": {
     "iopub.execute_input": "2025-02-17T15:38:00.731236Z",
     "iopub.status.busy": "2025-02-17T15:38:00.730745Z",
     "iopub.status.idle": "2025-02-17T15:38:00.738083Z",
     "shell.execute_reply": "2025-02-17T15:38:00.736934Z"
    },
    "papermill": {
     "duration": 0.017094,
     "end_time": "2025-02-17T15:38:00.739700",
     "exception": false,
     "start_time": "2025-02-17T15:38:00.722606",
     "status": "completed"
    },
    "tags": []
   },
   "outputs": [
    {
     "data": {
      "text/plain": [
       "array(['Unknown_Cause', 'Other', 'Accident', 'Accident_Under_Treatment',\n",
       "       'Pulmonary_Tuberculosis', 'Presumed_Drowning', 'Cancer',\n",
       "       'Floating_in_Water', 'Hanging', 'Traffic_Accident', 'Drowning',\n",
       "       'Physical_Assault', 'Heart_Failure', 'Sepsis',\n",
       "       'Pneumonia_Infection', 'Assault_Stab_Wound',\n",
       "       'Unknown_Cause_(Assault)', 'Electrocution', 'Fall_from_Height'],\n",
       "      dtype=object)"
      ]
     },
     "execution_count": 18,
     "metadata": {},
     "output_type": "execute_result"
    }
   ],
   "source": [
    "df_final['causeofDeath'].unique()"
   ]
  },
  {
   "cell_type": "code",
   "execution_count": 19,
   "id": "47c3c26e",
   "metadata": {
    "execution": {
     "iopub.execute_input": "2025-02-17T15:38:00.755700Z",
     "iopub.status.busy": "2025-02-17T15:38:00.755264Z",
     "iopub.status.idle": "2025-02-17T15:38:00.788030Z",
     "shell.execute_reply": "2025-02-17T15:38:00.786557Z"
    },
    "papermill": {
     "duration": 0.04293,
     "end_time": "2025-02-17T15:38:00.789950",
     "exception": false,
     "start_time": "2025-02-17T15:38:00.747020",
     "status": "completed"
    },
    "tags": []
   },
   "outputs": [
    {
     "name": "stdout",
     "output_type": "stream",
     "text": [
      "              condition  autopsyYear gender autopsyDate   causeofDeath\n",
      "0    The body is intact       2568.0   male  2025-02-01  Unknown_Cause\n",
      "1    The body is intact       2568.0   male  2025-02-01  Unknown_Cause\n",
      "2    The body is intact       2568.0   male  2025-01-24  Unknown_Cause\n",
      "3    The body is intact       2568.0   male  2025-01-24  Unknown_Cause\n",
      "4    The body is intact       2568.0   male  2025-01-13  Unknown_Cause\n",
      "..                  ...          ...    ...         ...            ...\n",
      "577  The body is intact       2562.0   male  2019-01-12  Unknown_Cause\n",
      "578  The body is intact       2562.0   male  2019-01-07  Unknown_Cause\n",
      "579  The body is intact       2562.0   male  2019-01-07  Unknown_Cause\n",
      "580  The body is intact       2562.0   male  2019-01-05  Unknown_Cause\n",
      "581  The body is intact       2562.0   male  2019-01-03  Unknown_Cause\n",
      "\n",
      "[575 rows x 5 columns]\n",
      "              condition  autopsyYear gender autopsyDate   causeofDeath\n",
      "0    The body is intact       2568.0   male  2025-02-01  Unknown_Cause\n",
      "1    The body is intact       2568.0   male  2025-02-01  Unknown_Cause\n",
      "2    The body is intact       2568.0   male  2025-01-24  Unknown_Cause\n",
      "3    The body is intact       2568.0   male  2025-01-24  Unknown_Cause\n",
      "4    The body is intact       2568.0   male  2025-01-13  Unknown_Cause\n",
      "..                  ...          ...    ...         ...            ...\n",
      "577  The body is intact       2562.0   male  2019-01-12  Unknown_Cause\n",
      "578  The body is intact       2562.0   male  2019-01-07  Unknown_Cause\n",
      "579  The body is intact       2562.0   male  2019-01-07  Unknown_Cause\n",
      "580  The body is intact       2562.0   male  2019-01-05  Unknown_Cause\n",
      "581  The body is intact       2562.0   male  2019-01-03  Unknown_Cause\n",
      "\n",
      "[575 rows x 5 columns]\n"
     ]
    }
   ],
   "source": [
    "\n",
    "df_final[\"autopsyDate\"] = df_final[\"autopsyDate\"]\\\n",
    "    .str.replace(\"มกราคม\", \"01\", regex=False)\\\n",
    "    .str.replace(\"กุมภาพันธ์\", \"02\", regex=False)\\\n",
    "    .str.replace(\"มีนาคม\", \"03\", regex=False)\\\n",
    "    .str.replace(\"เมษายน\", \"04\", regex=False)\\\n",
    "    .str.replace(\"พฤษภาคม\", \"05\", regex=False)\\\n",
    "    .str.replace(\"มิถุนายน\", \"06\", regex=False)\\\n",
    "    .str.replace(\"กรกฎาคม\", \"07\", regex=False)\\\n",
    "    .str.replace(\"สิงหาคม\", \"08\", regex=False)\\\n",
    "    .str.replace(\"กันยายน\", \"09\", regex=False)\\\n",
    "    .str.replace(\"ตุลาคม\", \"10\", regex=False)\\\n",
    "    .str.replace(\"พฤศจิกายน\", \"11\", regex=False)\\\n",
    "    .str.replace(\"ธันวาคม\", \"12\", regex=False)\n",
    "\n",
    "\n",
    "df_final[\"autopsyDate\"] = df_final[\"autopsyDate\"].str.replace(r'(\\d{4})', lambda x: str(int(x.group(0)) - 543), regex=True)\n",
    "\n",
    "df_final[\"autopsyDate\"] = pd.to_datetime(df_final[\"autopsyDate\"], format=\"%d %m %Y\").dt.date\n",
    "\n",
    "print(df_final)\n",
    "\n",
    "\n",
    "\n",
    "print(df_final)\n"
   ]
  },
  {
   "cell_type": "code",
   "execution_count": 20,
   "id": "cf4e31e1",
   "metadata": {
    "execution": {
     "iopub.execute_input": "2025-02-17T15:38:00.806446Z",
     "iopub.status.busy": "2025-02-17T15:38:00.805987Z",
     "iopub.status.idle": "2025-02-17T15:38:00.812553Z",
     "shell.execute_reply": "2025-02-17T15:38:00.811206Z"
    },
    "papermill": {
     "duration": 0.017102,
     "end_time": "2025-02-17T15:38:00.814459",
     "exception": false,
     "start_time": "2025-02-17T15:38:00.797357",
     "status": "completed"
    },
    "tags": []
   },
   "outputs": [],
   "source": [
    "df_final['autopsyYear'] = df_final['autopsyYear'].astype(int) - 543\n"
   ]
  },
  {
   "cell_type": "code",
   "execution_count": 21,
   "id": "32f013de",
   "metadata": {
    "execution": {
     "iopub.execute_input": "2025-02-17T15:38:00.830941Z",
     "iopub.status.busy": "2025-02-17T15:38:00.830460Z",
     "iopub.status.idle": "2025-02-17T15:38:00.873168Z",
     "shell.execute_reply": "2025-02-17T15:38:00.871937Z"
    },
    "papermill": {
     "duration": 0.053487,
     "end_time": "2025-02-17T15:38:00.875362",
     "exception": false,
     "start_time": "2025-02-17T15:38:00.821875",
     "status": "completed"
    },
    "tags": []
   },
   "outputs": [],
   "source": [
    "import pandas as pd\n",
    "import sqlite3\n",
    "\n",
    "conn = sqlite3.connect('panthep_test.db')\n",
    "df_final.to_sql('people', conn, if_exists='replace', index=False)\n",
    "conn.close()"
   ]
  },
  {
   "cell_type": "code",
   "execution_count": 22,
   "id": "f7446403",
   "metadata": {
    "execution": {
     "iopub.execute_input": "2025-02-17T15:38:00.892205Z",
     "iopub.status.busy": "2025-02-17T15:38:00.891701Z",
     "iopub.status.idle": "2025-02-17T15:38:01.619487Z",
     "shell.execute_reply": "2025-02-17T15:38:01.618476Z"
    },
    "papermill": {
     "duration": 0.738357,
     "end_time": "2025-02-17T15:38:01.621407",
     "exception": false,
     "start_time": "2025-02-17T15:38:00.883050",
     "status": "completed"
    },
    "tags": []
   },
   "outputs": [],
   "source": [
    "df_final.to_excel('panthep_test.xlsx', index=False)"
   ]
  },
  {
   "cell_type": "code",
   "execution_count": 23,
   "id": "55907ec0",
   "metadata": {
    "execution": {
     "iopub.execute_input": "2025-02-17T15:38:01.637305Z",
     "iopub.status.busy": "2025-02-17T15:38:01.636780Z",
     "iopub.status.idle": "2025-02-17T15:38:01.641168Z",
     "shell.execute_reply": "2025-02-17T15:38:01.639934Z"
    },
    "papermill": {
     "duration": 0.014031,
     "end_time": "2025-02-17T15:38:01.642778",
     "exception": false,
     "start_time": "2025-02-17T15:38:01.628747",
     "status": "completed"
    },
    "tags": []
   },
   "outputs": [],
   "source": [
    "#import os\n",
    "\n",
    "\n",
    "#file_path = '/kaggle/working/panthep_test.db'\n",
    "\n",
    "\n",
    "#if os.path.exists(file_path):\n",
    "    #os.remove(file_path)\n",
    "    #print(f\"ไฟล์ {file_path} ถูกลบเรียบร้อยแล้ว\")\n",
    "#else:\n",
    "    #print(f\"ไฟล์ {file_path} ไม่พบในระบบ\")\n"
   ]
  },
  {
   "cell_type": "code",
   "execution_count": 24,
   "id": "43cae247",
   "metadata": {
    "execution": {
     "iopub.execute_input": "2025-02-17T15:38:01.658433Z",
     "iopub.status.busy": "2025-02-17T15:38:01.658047Z",
     "iopub.status.idle": "2025-02-17T15:38:01.829415Z",
     "shell.execute_reply": "2025-02-17T15:38:01.828373Z"
    },
    "papermill": {
     "duration": 0.181092,
     "end_time": "2025-02-17T15:38:01.831102",
     "exception": false,
     "start_time": "2025-02-17T15:38:01.650010",
     "status": "completed"
    },
    "tags": []
   },
   "outputs": [
    {
     "data": {
      "text/html": [
       "<div>\n",
       "<style scoped>\n",
       "    .dataframe tbody tr th:only-of-type {\n",
       "        vertical-align: middle;\n",
       "    }\n",
       "\n",
       "    .dataframe tbody tr th {\n",
       "        vertical-align: top;\n",
       "    }\n",
       "\n",
       "    .dataframe thead th {\n",
       "        text-align: right;\n",
       "    }\n",
       "</style>\n",
       "<table border=\"1\" class=\"dataframe\">\n",
       "  <thead>\n",
       "    <tr style=\"text-align: right;\">\n",
       "      <th></th>\n",
       "      <th>condition</th>\n",
       "      <th>autopsyYear</th>\n",
       "      <th>gender</th>\n",
       "      <th>autopsyDate</th>\n",
       "      <th>causeofDeath</th>\n",
       "    </tr>\n",
       "  </thead>\n",
       "  <tbody>\n",
       "    <tr>\n",
       "      <th>0</th>\n",
       "      <td>The body is intact</td>\n",
       "      <td>2025</td>\n",
       "      <td>male</td>\n",
       "      <td>2025-02-01</td>\n",
       "      <td>Unknown_Cause</td>\n",
       "    </tr>\n",
       "    <tr>\n",
       "      <th>1</th>\n",
       "      <td>The body is intact</td>\n",
       "      <td>2025</td>\n",
       "      <td>male</td>\n",
       "      <td>2025-02-01</td>\n",
       "      <td>Unknown_Cause</td>\n",
       "    </tr>\n",
       "    <tr>\n",
       "      <th>2</th>\n",
       "      <td>The body is intact</td>\n",
       "      <td>2025</td>\n",
       "      <td>male</td>\n",
       "      <td>2025-01-24</td>\n",
       "      <td>Unknown_Cause</td>\n",
       "    </tr>\n",
       "    <tr>\n",
       "      <th>3</th>\n",
       "      <td>The body is intact</td>\n",
       "      <td>2025</td>\n",
       "      <td>male</td>\n",
       "      <td>2025-01-24</td>\n",
       "      <td>Unknown_Cause</td>\n",
       "    </tr>\n",
       "    <tr>\n",
       "      <th>4</th>\n",
       "      <td>The body is intact</td>\n",
       "      <td>2025</td>\n",
       "      <td>male</td>\n",
       "      <td>2025-01-13</td>\n",
       "      <td>Unknown_Cause</td>\n",
       "    </tr>\n",
       "    <tr>\n",
       "      <th>...</th>\n",
       "      <td>...</td>\n",
       "      <td>...</td>\n",
       "      <td>...</td>\n",
       "      <td>...</td>\n",
       "      <td>...</td>\n",
       "    </tr>\n",
       "    <tr>\n",
       "      <th>570</th>\n",
       "      <td>The body is intact</td>\n",
       "      <td>2019</td>\n",
       "      <td>male</td>\n",
       "      <td>2019-01-12</td>\n",
       "      <td>Unknown_Cause</td>\n",
       "    </tr>\n",
       "    <tr>\n",
       "      <th>571</th>\n",
       "      <td>The body is intact</td>\n",
       "      <td>2019</td>\n",
       "      <td>male</td>\n",
       "      <td>2019-01-07</td>\n",
       "      <td>Unknown_Cause</td>\n",
       "    </tr>\n",
       "    <tr>\n",
       "      <th>572</th>\n",
       "      <td>The body is intact</td>\n",
       "      <td>2019</td>\n",
       "      <td>male</td>\n",
       "      <td>2019-01-07</td>\n",
       "      <td>Unknown_Cause</td>\n",
       "    </tr>\n",
       "    <tr>\n",
       "      <th>573</th>\n",
       "      <td>The body is intact</td>\n",
       "      <td>2019</td>\n",
       "      <td>male</td>\n",
       "      <td>2019-01-05</td>\n",
       "      <td>Unknown_Cause</td>\n",
       "    </tr>\n",
       "    <tr>\n",
       "      <th>574</th>\n",
       "      <td>The body is intact</td>\n",
       "      <td>2019</td>\n",
       "      <td>male</td>\n",
       "      <td>2019-01-03</td>\n",
       "      <td>Unknown_Cause</td>\n",
       "    </tr>\n",
       "  </tbody>\n",
       "</table>\n",
       "<p>575 rows × 5 columns</p>\n",
       "</div>"
      ],
      "text/plain": [
       "              condition  autopsyYear gender autopsyDate   causeofDeath\n",
       "0    The body is intact         2025   male  2025-02-01  Unknown_Cause\n",
       "1    The body is intact         2025   male  2025-02-01  Unknown_Cause\n",
       "2    The body is intact         2025   male  2025-01-24  Unknown_Cause\n",
       "3    The body is intact         2025   male  2025-01-24  Unknown_Cause\n",
       "4    The body is intact         2025   male  2025-01-13  Unknown_Cause\n",
       "..                  ...          ...    ...         ...            ...\n",
       "570  The body is intact         2019   male  2019-01-12  Unknown_Cause\n",
       "571  The body is intact         2019   male  2019-01-07  Unknown_Cause\n",
       "572  The body is intact         2019   male  2019-01-07  Unknown_Cause\n",
       "573  The body is intact         2019   male  2019-01-05  Unknown_Cause\n",
       "574  The body is intact         2019   male  2019-01-03  Unknown_Cause\n",
       "\n",
       "[575 rows x 5 columns]"
      ]
     },
     "execution_count": 24,
     "metadata": {},
     "output_type": "execute_result"
    }
   ],
   "source": [
    "df = pd.read_excel('/kaggle/working/panthep_test.xlsx',header=0)\n",
    "df"
   ]
  },
  {
   "cell_type": "code",
   "execution_count": 25,
   "id": "244af4f5",
   "metadata": {
    "execution": {
     "iopub.execute_input": "2025-02-17T15:38:01.847983Z",
     "iopub.status.busy": "2025-02-17T15:38:01.847584Z",
     "iopub.status.idle": "2025-02-17T15:38:01.854470Z",
     "shell.execute_reply": "2025-02-17T15:38:01.853347Z"
    },
    "papermill": {
     "duration": 0.017096,
     "end_time": "2025-02-17T15:38:01.856310",
     "exception": false,
     "start_time": "2025-02-17T15:38:01.839214",
     "status": "completed"
    },
    "tags": []
   },
   "outputs": [
    {
     "data": {
      "text/plain": [
       "array(['Unknown_Cause', 'Other', 'Accident', 'Accident_Under_Treatment',\n",
       "       'Pulmonary_Tuberculosis', 'Presumed_Drowning', 'Cancer',\n",
       "       'Floating_in_Water', 'Hanging', 'Traffic_Accident', 'Drowning',\n",
       "       'Physical_Assault', 'Heart_Failure', 'Sepsis',\n",
       "       'Pneumonia_Infection', 'Assault_Stab_Wound',\n",
       "       'Unknown_Cause_(Assault)', 'Electrocution', 'Fall_from_Height'],\n",
       "      dtype=object)"
      ]
     },
     "execution_count": 25,
     "metadata": {},
     "output_type": "execute_result"
    }
   ],
   "source": [
    "df['causeofDeath'].unique()"
   ]
  },
  {
   "cell_type": "code",
   "execution_count": 26,
   "id": "b15034d5",
   "metadata": {
    "execution": {
     "iopub.execute_input": "2025-02-17T15:38:01.872748Z",
     "iopub.status.busy": "2025-02-17T15:38:01.872411Z",
     "iopub.status.idle": "2025-02-17T15:38:01.885164Z",
     "shell.execute_reply": "2025-02-17T15:38:01.883804Z"
    },
    "papermill": {
     "duration": 0.023274,
     "end_time": "2025-02-17T15:38:01.887235",
     "exception": false,
     "start_time": "2025-02-17T15:38:01.863961",
     "status": "completed"
    },
    "tags": []
   },
   "outputs": [
    {
     "name": "stdout",
     "output_type": "stream",
     "text": [
      "              condition  autopsyYear gender autopsyDate   causeofDeath\n",
      "0    The body is intact         2025   male  2025-02-01  Unknown_Cause\n",
      "1    The body is intact         2025   male  2025-02-01  Unknown_Cause\n",
      "2    The body is intact         2025   male  2025-01-24  Unknown_Cause\n",
      "3    The body is intact         2025   male  2025-01-24  Unknown_Cause\n",
      "4    The body is intact         2025   male  2025-01-13  Unknown_Cause\n",
      "..                  ...          ...    ...         ...            ...\n",
      "570  The body is intact         2019   male  2019-01-12  Unknown_Cause\n",
      "571  The body is intact         2019   male  2019-01-07  Unknown_Cause\n",
      "572  The body is intact         2019   male  2019-01-07  Unknown_Cause\n",
      "573  The body is intact         2019   male  2019-01-05  Unknown_Cause\n",
      "574  The body is intact         2019   male  2019-01-03  Unknown_Cause\n",
      "\n",
      "[575 rows x 5 columns]\n"
     ]
    }
   ],
   "source": [
    "import sqlite3\n",
    "import pandas as pd\n",
    "\n",
    "# สร้างการเชื่อมต่อกับฐานข้อมูล SQLite\n",
    "conn = sqlite3.connect('/kaggle/working/panthep_test.db')\n",
    "\n",
    "# อ่านข้อมูลจากตารางในฐานข้อมูล (เช่น `table_name`) มาเป็น DataFrame\n",
    "df2 = pd.read_sql('SELECT * FROM people', conn)\n",
    "\n",
    "# ปิดการเชื่อมต่อ\n",
    "conn.close()\n",
    "\n",
    "# แสดงผล DataFrame\n",
    "print(df2)\n"
   ]
  },
  {
   "cell_type": "code",
   "execution_count": 27,
   "id": "8df8a244",
   "metadata": {
    "execution": {
     "iopub.execute_input": "2025-02-17T15:38:01.906592Z",
     "iopub.status.busy": "2025-02-17T15:38:01.906165Z",
     "iopub.status.idle": "2025-02-17T15:38:01.912709Z",
     "shell.execute_reply": "2025-02-17T15:38:01.911704Z"
    },
    "papermill": {
     "duration": 0.017798,
     "end_time": "2025-02-17T15:38:01.914274",
     "exception": false,
     "start_time": "2025-02-17T15:38:01.896476",
     "status": "completed"
    },
    "tags": []
   },
   "outputs": [
    {
     "data": {
      "text/plain": [
       "array(['Unknown_Cause', 'Other', 'Accident', 'Accident_Under_Treatment',\n",
       "       'Pulmonary_Tuberculosis', 'Presumed_Drowning', 'Cancer',\n",
       "       'Floating_in_Water', 'Hanging', 'Traffic_Accident', 'Drowning',\n",
       "       'Physical_Assault', 'Heart_Failure', 'Sepsis',\n",
       "       'Pneumonia_Infection', 'Assault_Stab_Wound',\n",
       "       'Unknown_Cause_(Assault)', 'Electrocution', 'Fall_from_Height'],\n",
       "      dtype=object)"
      ]
     },
     "execution_count": 27,
     "metadata": {},
     "output_type": "execute_result"
    }
   ],
   "source": [
    "df2['causeofDeath'].unique()"
   ]
  },
  {
   "cell_type": "code",
   "execution_count": 28,
   "id": "f853221b",
   "metadata": {
    "execution": {
     "iopub.execute_input": "2025-02-17T15:38:01.931506Z",
     "iopub.status.busy": "2025-02-17T15:38:01.931106Z",
     "iopub.status.idle": "2025-02-17T15:38:01.938959Z",
     "shell.execute_reply": "2025-02-17T15:38:01.937961Z"
    },
    "papermill": {
     "duration": 0.018622,
     "end_time": "2025-02-17T15:38:01.940637",
     "exception": false,
     "start_time": "2025-02-17T15:38:01.922015",
     "status": "completed"
    },
    "tags": []
   },
   "outputs": [
    {
     "data": {
      "text/plain": [
       "condition       0\n",
       "autopsyYear     0\n",
       "gender          0\n",
       "autopsyDate     0\n",
       "causeofDeath    0\n",
       "dtype: int64"
      ]
     },
     "execution_count": 28,
     "metadata": {},
     "output_type": "execute_result"
    }
   ],
   "source": [
    "df2.isnull().sum()"
   ]
  },
  {
   "cell_type": "code",
   "execution_count": 29,
   "id": "b16ae405",
   "metadata": {
    "execution": {
     "iopub.execute_input": "2025-02-17T15:38:01.957614Z",
     "iopub.status.busy": "2025-02-17T15:38:01.957244Z",
     "iopub.status.idle": "2025-02-17T15:38:01.969998Z",
     "shell.execute_reply": "2025-02-17T15:38:01.968947Z"
    },
    "papermill": {
     "duration": 0.023383,
     "end_time": "2025-02-17T15:38:01.971817",
     "exception": false,
     "start_time": "2025-02-17T15:38:01.948434",
     "status": "completed"
    },
    "tags": []
   },
   "outputs": [
    {
     "data": {
      "text/html": [
       "<div>\n",
       "<style scoped>\n",
       "    .dataframe tbody tr th:only-of-type {\n",
       "        vertical-align: middle;\n",
       "    }\n",
       "\n",
       "    .dataframe tbody tr th {\n",
       "        vertical-align: top;\n",
       "    }\n",
       "\n",
       "    .dataframe thead th {\n",
       "        text-align: right;\n",
       "    }\n",
       "</style>\n",
       "<table border=\"1\" class=\"dataframe\">\n",
       "  <thead>\n",
       "    <tr style=\"text-align: right;\">\n",
       "      <th></th>\n",
       "      <th>causeofDeath</th>\n",
       "      <th>count</th>\n",
       "    </tr>\n",
       "  </thead>\n",
       "  <tbody>\n",
       "    <tr>\n",
       "      <th>0</th>\n",
       "      <td>Accident</td>\n",
       "      <td>4</td>\n",
       "    </tr>\n",
       "    <tr>\n",
       "      <th>1</th>\n",
       "      <td>Accident_Under_Treatment</td>\n",
       "      <td>2</td>\n",
       "    </tr>\n",
       "    <tr>\n",
       "      <th>2</th>\n",
       "      <td>Assault_Stab_Wound</td>\n",
       "      <td>1</td>\n",
       "    </tr>\n",
       "    <tr>\n",
       "      <th>3</th>\n",
       "      <td>Cancer</td>\n",
       "      <td>1</td>\n",
       "    </tr>\n",
       "    <tr>\n",
       "      <th>4</th>\n",
       "      <td>Drowning</td>\n",
       "      <td>3</td>\n",
       "    </tr>\n",
       "    <tr>\n",
       "      <th>5</th>\n",
       "      <td>Electrocution</td>\n",
       "      <td>1</td>\n",
       "    </tr>\n",
       "    <tr>\n",
       "      <th>6</th>\n",
       "      <td>Fall_from_Height</td>\n",
       "      <td>1</td>\n",
       "    </tr>\n",
       "    <tr>\n",
       "      <th>7</th>\n",
       "      <td>Floating_in_Water</td>\n",
       "      <td>5</td>\n",
       "    </tr>\n",
       "    <tr>\n",
       "      <th>8</th>\n",
       "      <td>Hanging</td>\n",
       "      <td>6</td>\n",
       "    </tr>\n",
       "    <tr>\n",
       "      <th>9</th>\n",
       "      <td>Heart_Failure</td>\n",
       "      <td>1</td>\n",
       "    </tr>\n",
       "    <tr>\n",
       "      <th>10</th>\n",
       "      <td>Other</td>\n",
       "      <td>22</td>\n",
       "    </tr>\n",
       "    <tr>\n",
       "      <th>11</th>\n",
       "      <td>Physical_Assault</td>\n",
       "      <td>1</td>\n",
       "    </tr>\n",
       "    <tr>\n",
       "      <th>12</th>\n",
       "      <td>Pneumonia_Infection</td>\n",
       "      <td>1</td>\n",
       "    </tr>\n",
       "    <tr>\n",
       "      <th>13</th>\n",
       "      <td>Presumed_Drowning</td>\n",
       "      <td>1</td>\n",
       "    </tr>\n",
       "    <tr>\n",
       "      <th>14</th>\n",
       "      <td>Pulmonary_Tuberculosis</td>\n",
       "      <td>1</td>\n",
       "    </tr>\n",
       "    <tr>\n",
       "      <th>15</th>\n",
       "      <td>Sepsis</td>\n",
       "      <td>1</td>\n",
       "    </tr>\n",
       "    <tr>\n",
       "      <th>16</th>\n",
       "      <td>Traffic_Accident</td>\n",
       "      <td>1</td>\n",
       "    </tr>\n",
       "    <tr>\n",
       "      <th>17</th>\n",
       "      <td>Unknown_Cause</td>\n",
       "      <td>521</td>\n",
       "    </tr>\n",
       "    <tr>\n",
       "      <th>18</th>\n",
       "      <td>Unknown_Cause_(Assault)</td>\n",
       "      <td>1</td>\n",
       "    </tr>\n",
       "  </tbody>\n",
       "</table>\n",
       "</div>"
      ],
      "text/plain": [
       "                causeofDeath  count\n",
       "0                   Accident      4\n",
       "1   Accident_Under_Treatment      2\n",
       "2         Assault_Stab_Wound      1\n",
       "3                     Cancer      1\n",
       "4                   Drowning      3\n",
       "5              Electrocution      1\n",
       "6           Fall_from_Height      1\n",
       "7          Floating_in_Water      5\n",
       "8                    Hanging      6\n",
       "9              Heart_Failure      1\n",
       "10                     Other     22\n",
       "11          Physical_Assault      1\n",
       "12       Pneumonia_Infection      1\n",
       "13         Presumed_Drowning      1\n",
       "14    Pulmonary_Tuberculosis      1\n",
       "15                    Sepsis      1\n",
       "16          Traffic_Accident      1\n",
       "17             Unknown_Cause    521\n",
       "18   Unknown_Cause_(Assault)      1"
      ]
     },
     "execution_count": 29,
     "metadata": {},
     "output_type": "execute_result"
    }
   ],
   "source": [
    "df2.groupby('causeofDeath').size().reset_index(name='count')\n"
   ]
  },
  {
   "cell_type": "code",
   "execution_count": null,
   "id": "e53247f8",
   "metadata": {
    "papermill": {
     "duration": 0.007658,
     "end_time": "2025-02-17T15:38:01.988016",
     "exception": false,
     "start_time": "2025-02-17T15:38:01.980358",
     "status": "completed"
    },
    "tags": []
   },
   "outputs": [],
   "source": []
  }
 ],
 "metadata": {
  "kaggle": {
   "accelerator": "none",
   "dataSources": [],
   "dockerImageVersionId": 30886,
   "isGpuEnabled": false,
   "isInternetEnabled": true,
   "language": "python",
   "sourceType": "notebook"
  },
  "kernelspec": {
   "display_name": "Python 3",
   "language": "python",
   "name": "python3"
  },
  "language_info": {
   "codemirror_mode": {
    "name": "ipython",
    "version": 3
   },
   "file_extension": ".py",
   "mimetype": "text/x-python",
   "name": "python",
   "nbconvert_exporter": "python",
   "pygments_lexer": "ipython3",
   "version": "3.10.12"
  },
  "papermill": {
   "default_parameters": {},
   "duration": 7.570326,
   "end_time": "2025-02-17T15:38:02.616981",
   "environment_variables": {},
   "exception": null,
   "input_path": "__notebook__.ipynb",
   "output_path": "__notebook__.ipynb",
   "parameters": {},
   "start_time": "2025-02-17T15:37:55.046655",
   "version": "2.6.0"
  }
 },
 "nbformat": 4,
 "nbformat_minor": 5
}
